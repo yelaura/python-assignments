{
 "cells": [
  {
   "cell_type": "markdown",
   "metadata": {},
   "source": [
    "Import dependencies"
   ]
  },
  {
   "cell_type": "code",
   "execution_count": null,
   "metadata": {
    "collapsed": true
   },
   "outputs": [],
   "source": [
    "import numpy as np\n",
    "import pandas as pd\n",
    "import pylab as plb"
   ]
  },
  {
   "cell_type": "markdown",
   "metadata": {},
   "source": [
    "1. The data set that you need is in one of the sheets of the Excel file Assignment_1_Data_and_Template.xlsx (attached). The other sheets contain shaded cells meant to be filled in by you. Examine the sheets carefully and understand what must be computed or described. Except for cutting and pasting your results in the specific cells provided, do not alter the spreadsheet in any other way. This is the only recognized means of submitting this assignment."
   ]
  },
  {
   "cell_type": "code",
   "execution_count": null,
   "metadata": {
    "collapsed": false
   },
   "outputs": [],
   "source": [
    "# Import data into Panda.DataFrame\n",
    "df = pd.read_excel('Assignment_1_Data_and_Template.xlsx')\n",
    "\n",
    "# adding head_parameter to truncate data to top 50 rows\n",
    "df = df.head(n=50)\n",
    "\n",
    "# Filter out data for Male and Female data\n",
    "male_heights = df.loc[df['Gender'] == 'Male']\n",
    "female_heights = df.loc[df['Gender'] == 'Female']\n",
    "\n",
    "# Convert heights in feet and inches to inches only\n",
    "male_ht = male_heights['Height_Feet'] * 12 + male_heights['Height_Inches']\n",
    "female_ht = female_heights['Height_Feet'] * 12 + female_heights['Height_Inches']"
   ]
  },
  {
   "cell_type": "markdown",
   "metadata": {},
   "source": [
    "2. Construct separate histograms for male and female heights using 32 bins. Do not use a built in histogram program. Also remember that the histograms are the 2 lists of 32 counts that you enter into the correct place in the spreadsheet. They are not just pretty pictures!"
   ]
  },
  {
   "cell_type": "code",
   "execution_count": null,
   "metadata": {
    "collapsed": false
   },
   "outputs": [],
   "source": [
    "bins = 32\n",
    "\n",
    "# Determine bin widths based on maximum of each data set\n",
    "female_bin_width = np.ceil((female_ht.max() - female_ht.min()) / bins)\n",
    "male_bin_width = np.ceil((male_ht.max() - male_ht.min()) / bins)\n",
    "\n",
    "# Determine how many data points fall within each bin\n",
    "f = female_ht.value_counts()\n",
    "m = male_ht.value_counts()\n",
    "\n",
    "# Graph in separate histograms\n",
    "plb.clf()\n",
    "m_plot = plb.bar(m.axes[0], m.tolist(), color='b', alpha=0.5, hold=None)\n",
    "plb.title('Count of male heights')\n",
    "plb.show()\n",
    "\n",
    "plb.clf()\n",
    "f_plot = plb.bar(f.axes[0], f.tolist(), color='r', alpha=0.5, hold=None)\n",
    "plb.title('Count of female heights')\n",
    "plb.show()\n",
    "\n",
    "# Graph in the same histogram\n",
    "plb.clf()\n",
    "m_plot = plb.bar(m.axes[0], m.tolist(), color='b', alpha=0.5, hold=True)\n",
    "f_plot = plb.bar(f.axes[0], f.tolist(), color='r', alpha=0.5, hold=True)\n",
    "plb.legend([m_plot, f_plot], ['Male', 'Female'])\n",
    "plb.show()"
   ]
  },
  {
   "cell_type": "markdown",
   "metadata": {},
   "source": [
    "3. Based on the histograms, compute the probability of being female of individuals with heights 55, 60, 65, 70, 75 and 80 inches"
   ]
  },
  {
   "cell_type": "code",
   "execution_count": null,
   "metadata": {
    "collapsed": false,
    "scrolled": true
   },
   "outputs": [],
   "source": [
    "# Female probable heights\n",
    "prob_hts = [55, 60, 65, 70, 75, 80]\n",
    "\n",
    "# Empty array to comput probability of being female\n",
    "# Probability = number of females @ height / (number of females @ height + number of males @ height)\n",
    "prob = []\n",
    "for item in prob_hts:\n",
    "    probability = 0\n",
    "    try:\n",
    "        probability = m[item]\n",
    "    except:\n",
    "        probability = 0\n",
    "        \n",
    "    try:\n",
    "        probability = f[item]/(f[item]+probability)\n",
    "    except:\n",
    "        probability = 0\n",
    "        \n",
    "    prob.append(probability)\n",
    "    \n",
    "plb.plot(prob_hts, prob)\n",
    "plb.title('Probability of being female, given height')\n",
    "plb.show()"
   ]
  },
  {
   "cell_type": "markdown",
   "metadata": {},
   "source": [
    "4. Find the parameters of Gaussian models for the 2 PDFs to describe the data. You may use built in functions to compute the model parameters."
   ]
  },
  {
   "cell_type": "code",
   "execution_count": null,
   "metadata": {
    "collapsed": true
   },
   "outputs": [],
   "source": [
    "# Function to compute pdf for female\n",
    "def pdf(x): \n",
    "    # input: x = height in inches\n",
    "    mean = female_ht.mean()\n",
    "    std = female_ht.std()\n",
    "    total = len(female_ht)\n",
    "    \n",
    "    total_f = total / (np.sqrt(2*np.pi)*std) * np.exp(-0.5 * (((x-mean)/std) ** 2))\n",
    "    \n",
    "    mean = male_ht.mean()\n",
    "    std = male_ht.std()\n",
    "    total = len(male_ht)\n",
    "    \n",
    "    total_m = total / (np.sqrt(2*np.pi)*std) * np.exp(-0.5 * (((x-mean)/std) ** 2))\n",
    "    \n",
    "    return total_f / (total_m + total_f)"
   ]
  },
  {
   "cell_type": "markdown",
   "metadata": {},
   "source": [
    "5. Use the Bayesian Formula with the model parameters found above to re-compute the probability of being female of individuals with heights 55, 60, 65, 70, 75 and 80 inches. Do not use a built in function for computing the pdf."
   ]
  },
  {
   "cell_type": "code",
   "execution_count": null,
   "metadata": {
    "collapsed": false
   },
   "outputs": [],
   "source": [
    "pdf_hts = []\n",
    "for item in prob_hts:\n",
    "    pdf_hts.append(pdf(item))"
   ]
  },
  {
   "cell_type": "markdown",
   "metadata": {},
   "source": [
    "6. Repeat steps 2 through 5 using just the first 50 height entries in the data file. Now what are your observations regarding histogram classifiers and Bayesian classifiers?"
   ]
  },
  {
   "cell_type": "markdown",
   "metadata": {},
   "source": [
    "With full data, Bayesian classifier and histogram classifiers produce nearly the same result.\n",
    "However, with partial data, Bayesian classifier produces nearly identical results as the Bayesian classifier with full data.\n",
    "With partial data, the histogram classifier was inaccurate because it only looks at one value. When the data is sparse and that value doesn't exist, the histogram classifier determines that the probability is 0, which is inaccurate.\n",
    "It seems that the Bayesian classifier is more accurate and consistent than the histogram classifier, whether it is with full data or partial data."
   ]
  }
 ],
 "metadata": {
  "anaconda-cloud": {},
  "kernelspec": {
   "display_name": "Python [conda root]",
   "language": "python",
   "name": "conda-root-py"
  },
  "language_info": {
   "codemirror_mode": {
    "name": "ipython",
    "version": 3
   },
   "file_extension": ".py",
   "mimetype": "text/x-python",
   "name": "python",
   "nbconvert_exporter": "python",
   "pygments_lexer": "ipython3",
   "version": "3.5.2"
  }
 },
 "nbformat": 4,
 "nbformat_minor": 1
}
