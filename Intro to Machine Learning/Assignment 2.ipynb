{
 "cells": [
  {
   "cell_type": "code",
   "execution_count": 1,
   "metadata": {
    "collapsed": false
   },
   "outputs": [],
   "source": [
    "import numpy as np\n",
    "import pandas as pd\n",
    "import pylab as plb"
   ]
  },
  {
   "cell_type": "markdown",
   "metadata": {},
   "source": [
    "The data set that you need is in one of the sheets of the Excel file Assignment_2_Data_and_Template.xlsx (attached). The other sheets contain shaded cells meant to be filled in by you. Examine the sheets carefully and understand what must be computed or described. Except for cutting and pasting your results in the specific cells provided, do not alter the spreadsheet in any other way. This is the only recognized means of submitting this assignment."
   ]
  },
  {
   "cell_type": "code",
   "execution_count": 2,
   "metadata": {
    "collapsed": false
   },
   "outputs": [],
   "source": [
    "# Import data into Panda.DataFrame\n",
    "df = pd.read_excel('Assignment_2_Data_and_Template.xlsx')\n",
    "\n",
    "# Filter out data for Male and Female data\n",
    "male_data = df.loc[df['Sex'] == 'Male']\n",
    "female_data = df.loc[df['Sex'] == 'Female']\n",
    "\n",
    "female_data = female_data.drop('Sex', 1)\n",
    "female_data = female_data.reset_index(drop=True)\n",
    "male_data = male_data.drop('Sex', 1)\n",
    "male_data = male_data.reset_index(drop=True)"
   ]
  },
  {
   "cell_type": "code",
   "execution_count": 61,
   "metadata": {
    "collapsed": false
   },
   "outputs": [
    {
     "data": {
      "text/plain": [
       "8.383704292474054"
      ]
     },
     "execution_count": 61,
     "metadata": {},
     "output_type": "execute_result"
    }
   ],
   "source": [
    "import math\n",
    "bins = math.log(len(female_data) + len(male_data), 2)+1; bins"
   ]
  },
  {
   "cell_type": "code",
   "execution_count": 62,
   "metadata": {
    "collapsed": false
   },
   "outputs": [],
   "source": [
    "B=9\n",
    "\n",
    "min1 = min(female_data['Height'].min(), male_data['Height'].min())\n",
    "max1 = max(female_data['Height'].max(), male_data['Height'].max())\n",
    "\n",
    "min2 = min(female_data['HandSpan'].min(), male_data['HandSpan'].min())\n",
    "max2 = max(female_data['HandSpan'].max(), male_data['HandSpan'].max())"
   ]
  },
  {
   "cell_type": "markdown",
   "metadata": {},
   "source": [
    "Construct separate 2D histograms for male and female heights. You decide on the number of bins to use, making sure there is sufficient resolution and bin-filling. Represent height in rows, and handspan in columns -- both in ascending order of magnitude of feature. Do not use a built-in histogram program. "
   ]
  },
  {
   "cell_type": "code",
   "execution_count": 63,
   "metadata": {
    "collapsed": false
   },
   "outputs": [],
   "source": [
    "# Determine which bin each data point falls\n",
    "\n",
    "counts_f = np.zeros((B, B))\n",
    "counts_m = np.zeros((B, B))\n",
    "\n",
    "for index,rows in female_data.iterrows():\n",
    "    r= int(np.floor((rows['Height']-min1)/(max1-min1)*B))\n",
    "    c= int(np.floor((rows['HandSpan']-min2)/(max2-min2)*B))\n",
    "                    \n",
    "    if r >= B:\n",
    "        r = B-1\n",
    "    elif c >= B:\n",
    "        c = B-1\n",
    "        \n",
    "    counts_f[r][c] += 1\n",
    "    \n",
    "for index,rows in male_data.iterrows():\n",
    "    r= int(np.floor((rows['Height']-min1)/(max1-min1)*B))\n",
    "    c= int(np.floor((rows['HandSpan']-min2)/(max2-min2)*B))\n",
    "                    \n",
    "    if r >= B:\n",
    "        r = B-1\n",
    "    if c >= B:\n",
    "        c = B-1\n",
    "                \n",
    "    counts_m[r][c] += 1"
   ]
  },
  {
   "cell_type": "code",
   "execution_count": 64,
   "metadata": {
    "collapsed": false
   },
   "outputs": [
    {
     "data": {
      "text/plain": [
       "array([[  1.,   0.,   0.,   1.,   0.,   0.,   0.,   0.,   0.],\n",
       "       [  2.,   1.,   2.,   1.,   1.,   0.,   0.,   0.,   0.],\n",
       "       [  3.,   0.,   4.,   2.,   2.,   2.,   0.,   0.,   0.],\n",
       "       [  0.,   2.,  13.,  11.,   7.,   1.,   0.,   0.,   0.],\n",
       "       [  0.,   1.,   2.,  11.,   8.,   2.,   2.,   0.,   0.],\n",
       "       [  0.,   0.,   2.,   1.,   1.,   0.,   0.,   0.,   0.],\n",
       "       [  0.,   0.,   1.,   1.,   0.,   1.,   0.,   0.,   0.],\n",
       "       [  0.,   0.,   0.,   0.,   0.,   0.,   0.,   0.,   0.],\n",
       "       [  0.,   0.,   0.,   0.,   0.,   0.,   0.,   0.,   0.]])"
      ]
     },
     "execution_count": 64,
     "metadata": {},
     "output_type": "execute_result"
    }
   ],
   "source": [
    "counts_f"
   ]
  },
  {
   "cell_type": "code",
   "execution_count": 65,
   "metadata": {
    "collapsed": false
   },
   "outputs": [],
   "source": [
    "# function to compute histogram results\n",
    "\n",
    "def histo_result(histogram, query, mins, maxs):\n",
    "    \n",
    "    hist_f = histogram[0]\n",
    "    hist_m = histogram[1]\n",
    "\n",
    "    ht = query[0]\n",
    "    hs = query[1]\n",
    "\n",
    "    ht_min = mins[0]\n",
    "    hs_min = mins[1]\n",
    "    \n",
    "    ht_max = maxs[0]\n",
    "    hs_max = maxs[1]\n",
    "\n",
    "    bin_ht = int(np.floor((ht - ht_min) / (ht_max - ht_min) * B))\n",
    "    bin_hs = int(np.floor((hs - hs_min) / (hs_max - hs_min) * B))\n",
    "\n",
    "    prob_f = hist_f[bin_ht][bin_hs]/(hist_f[bin_ht][bin_hs] + hist_m[bin_ht][bin_hs])\n",
    "\n",
    "    if hist_f[bin_ht][bin_hs] + hist_m[bin_ht][bin_hs] == 0:\n",
    "        return(\"Indeterminate\")\n",
    "    elif prob_f > 0.5:\n",
    "        return (\"Female\", prob_f)\n",
    "    elif prob_f < 0.5:\n",
    "        return (\"Male\", 1-prob_f)\n",
    "    elif prob_f == 0.5:\n",
    "        return (\"50-50\", prob_f)"
   ]
  },
  {
   "cell_type": "code",
   "execution_count": 66,
   "metadata": {
    "collapsed": false
   },
   "outputs": [
    {
     "data": {
      "image/png": "[encoded data removed]",
      "text/plain": [
       "<matplotlib.figure.Figure at 0xb2f43c8>"
      ]
     },
     "metadata": {},
     "output_type": "display_data"
    }
   ],
   "source": [
    "#plot 2D histogram\n",
    "\n",
    "plb.subplot(1, 2, 1);\n",
    "plb.imshow(counts_f,interpolation='None',cmap=plb.get_cmap('gray'));\n",
    "plb.subplot(1, 2, 2);\n",
    "plb.imshow(counts_m,interpolation='None',cmap=plb.get_cmap('gray'));\n",
    "plb.show()"
   ]
  },
  {
   "cell_type": "markdown",
   "metadata": {},
   "source": [
    "Find the parameters of two 2D Gaussian models for the 2 PDFs to describe the data. Let the first dimension represent height, and the second dimension represent handspan. You may use built-in functions to compute these parameters, but do not use a built-in function to compute the pdf. "
   ]
  },
  {
   "cell_type": "code",
   "execution_count": 67,
   "metadata": {
    "collapsed": true
   },
   "outputs": [],
   "source": [
    "# Function to compute pdf for female\n",
    "def pdf(x_v): \n",
    "    # input: x_v = 1x2 matrix with queried (Height, HandSpan)\n",
    "    # output: probability of being female\n",
    "    \n",
    "    mean = female_data.mean()\n",
    "    total = len(female_data)\n",
    "    cov = female_data.cov()\n",
    "    \n",
    "    sqrt_cov_det = np.sqrt(np.linalg.det(cov))\n",
    "    diff = np.subtract(x_v, mean)\n",
    "    cov_inv = np.linalg.inv(cov)\n",
    "    \n",
    "    f_result = total / (np.sqrt(2*np.pi)*sqrt_cov_det) * np.exp(-0.5 * diff.dot(cov_inv).dot(diff.T))\n",
    "    \n",
    "    mean = male_data.mean()\n",
    "    total = len(male_data)\n",
    "    cov = male_data.cov()\n",
    "    \n",
    "    sqrt_cov_det = np.sqrt(np.linalg.det(cov))\n",
    "    diff = np.subtract(x_v, mean)\n",
    "    cov_inv = np.linalg.inv(cov)\n",
    "    \n",
    "    m_result = total / (np.sqrt(2*np.pi)*sqrt_cov_det) * np.exp(-0.5 * diff.dot(cov_inv).dot(diff.T))\n",
    "    \n",
    "    return f_result / (m_result + f_result)"
   ]
  },
  {
   "cell_type": "markdown",
   "metadata": {},
   "source": [
    "Based on the histograms and Gaussian models, compute the likely gender (given as the probability of being female) of individuals with measurements as given below (Height in inches, handspan in centimeters). What are your observations?\n",
    "\n",
    "Height  Handspan\n",
    "69       17.5\n",
    "66       22\n",
    "70       21.5\n",
    "69       23.5"
   ]
  },
  {
   "cell_type": "code",
   "execution_count": 68,
   "metadata": {
    "collapsed": false
   },
   "outputs": [
    {
     "name": "stdout",
     "output_type": "stream",
     "text": [
      "0.898536255812\n",
      "0.655579223246\n",
      "0.198857217832\n",
      "0.0564517965273\n"
     ]
    }
   ],
   "source": [
    "#Gaussian results\n",
    "print(pdf((69,17.5)))\n",
    "print(pdf((66,22)))\n",
    "print(pdf((70,21.5)))\n",
    "print(pdf((69,23.5)))"
   ]
  },
  {
   "cell_type": "code",
   "execution_count": 71,
   "metadata": {
    "collapsed": false
   },
   "outputs": [
    {
     "name": "stdout",
     "output_type": "stream",
     "text": [
      "('Male', 1.0)\n",
      "('Female', 1.0)\n",
      "('Male', 1.0)\n",
      "('Male', 1.0)\n",
      "[[  1.   0.   0.   1.   0.   0.   0.   0.   0.]\n",
      " [  2.   1.   2.   1.   1.   0.   0.   0.   0.]\n",
      " [  3.   0.   4.   2.   2.   2.   0.   0.   0.]\n",
      " [  0.   2.  13.  11.   7.   1.   0.   0.   0.]\n",
      " [  0.   1.   2.  11.   8.   2.   2.   0.   0.]\n",
      " [  0.   0.   2.   1.   1.   0.   0.   0.   0.]\n",
      " [  0.   0.   1.   1.   0.   1.   0.   0.   0.]\n",
      " [  0.   0.   0.   0.   0.   0.   0.   0.   0.]\n",
      " [  0.   0.   0.   0.   0.   0.   0.   0.   0.]]\n",
      "[[ 0.  0.  0.  0.  0.  0.  0.  0.  0.]\n",
      " [ 0.  0.  0.  0.  0.  0.  0.  0.  0.]\n",
      " [ 0.  0.  0.  0.  0.  0.  0.  0.  0.]\n",
      " [ 0.  0.  1.  0.  0.  0.  0.  0.  0.]\n",
      " [ 0.  0.  0.  0.  2.  6.  2.  1.  0.]\n",
      " [ 0.  1.  0.  1.  3.  3.  7.  2.  0.]\n",
      " [ 0.  0.  0.  1.  9.  9.  7.  4.  1.]\n",
      " [ 0.  0.  0.  0.  2.  2.  0.  5.  5.]\n",
      " [ 0.  0.  0.  0.  0.  0.  1.  1.  2.]]\n",
      "78.0 25.5\n"
     ]
    }
   ],
   "source": [
    "#Histogram results\n",
    "histogram = (counts_f, counts_m)\n",
    "queries = [(69,17.5),(66,22), (70,21.5), (69,23.5)]\n",
    "mins = (min1, min2)\n",
    "maxs = (max1, max2)\n",
    "\n",
    "for query in queries:\n",
    "    print(histo_result(histogram, query, mins, maxs))\n",
    "    \n",
    "    \n",
    "print(counts_f)\n",
    "print(counts_m)\n",
    "\n",
    "print (max1, max2)"
   ]
  },
  {
   "cell_type": "markdown",
   "metadata": {},
   "source": [
    "Extra credit: Reconstruct a histogram using female model parameters that can be compared to the female histogram constructed in Part 2. Similarly, reconstruct a histogram using male model parameters."
   ]
  },
  {
   "cell_type": "markdown",
   "metadata": {},
   "source": [
    "XZCVPR"
   ]
  },
  {
   "cell_type": "code",
   "execution_count": 100,
   "metadata": {
    "collapsed": false
   },
   "outputs": [],
   "source": [
    "def one_histo(data, mins, maxs, B=9):\n",
    "    \n",
    "    data = pd.DataFrame(data, columns=['Height', 'HandSpan'])\n",
    "\n",
    "    counts = np.zeros((B, B))\n",
    "\n",
    "    for index,rows in data.iterrows():\n",
    "        r = int(np.floor((rows['Height'] - mins[0]) / (maxs[0]-mins[0]) * B))\n",
    "        c = int(np.floor((rows['HandSpan'] - mins[1]) / (maxs[1]-mins[1]) * B))\n",
    "        \n",
    "        if r >= B:\n",
    "            r = B-1\n",
    "        if c >= B:\n",
    "            c = B-1\n",
    "        counts [r][c] += 1\n",
    "\n",
    "    return counts"
   ]
  },
  {
   "cell_type": "code",
   "execution_count": 101,
   "metadata": {
    "collapsed": false
   },
   "outputs": [
    {
     "name": "stdout",
     "output_type": "stream",
     "text": [
      "    Height  HandSpan\n",
      "0      0.0       0.0\n",
      "1      0.0       0.0\n",
      "2      0.0       0.0\n",
      "3      0.0       0.0\n",
      "4      0.0       0.0\n",
      "5      0.0       0.0\n",
      "6      0.0       0.0\n",
      "7      0.0       0.0\n",
      "8      0.0       0.0\n",
      "9      0.0       0.0\n",
      "10     0.0       0.0\n",
      "11     0.0       0.0\n",
      "12     0.0       0.0\n",
      "13     0.0       0.0\n",
      "14     0.0       0.0\n",
      "15     0.0       0.0\n",
      "16     0.0       0.0\n",
      "17     0.0       0.0\n",
      "18     0.0       0.0\n",
      "19     0.0       0.0\n",
      "20     0.0       0.0\n",
      "21     0.0       0.0\n",
      "22     0.0       0.0\n",
      "23     0.0       0.0\n",
      "24     0.0       0.0\n",
      "25     0.0       0.0\n",
      "26     0.0       0.0\n",
      "27     0.0       0.0\n",
      "28     0.0       0.0\n",
      "29     0.0       0.0\n",
      "..     ...       ...\n",
      "48     0.0       0.0\n",
      "49     0.0       0.0\n",
      "50     0.0       0.0\n",
      "51     0.0       0.0\n",
      "52     0.0       0.0\n",
      "53     0.0       0.0\n",
      "54     0.0       0.0\n",
      "55     0.0       0.0\n",
      "56     0.0       0.0\n",
      "57     0.0       0.0\n",
      "58     0.0       0.0\n",
      "59     0.0       0.0\n",
      "60     0.0       0.0\n",
      "61     0.0       0.0\n",
      "62     0.0       0.0\n",
      "63     0.0       0.0\n",
      "64     0.0       0.0\n",
      "65     0.0       0.0\n",
      "66     0.0       0.0\n",
      "67     0.0       0.0\n",
      "68     0.0       0.0\n",
      "69     0.0       0.0\n",
      "70     0.0       0.0\n",
      "71     0.0       0.0\n",
      "72     0.0       0.0\n",
      "73     0.0       0.0\n",
      "74     0.0       0.0\n",
      "75     0.0       0.0\n",
      "76     0.0       0.0\n",
      "77     0.0       0.0\n",
      "\n",
      "[78 rows x 2 columns]\n"
     ]
    }
   ],
   "source": [
    "x = female_data.mean()\n",
    "z = female_data.copy()\n",
    "\n",
    "for index,rows in z.iterrows():\n",
    "    z.loc[index] = rows - x\n",
    "    \n",
    "c = z.cov()\n",
    "\n",
    "l, v = np.linalg.eigh(c)\n",
    "v = np.flipud(v)\n",
    "v = np.real(v)\n",
    "    \n",
    "p = np.dot(z,v.T)\n",
    "\n",
    "r=np.dot(p,v)\n",
    "#r is the reduced data\n",
    "\n",
    "xrec_f = r.copy()\n",
    "\n",
    "for i in range(len(xrec_f)):\n",
    "    xrec_f[i] = xrec_f[i] + x\n",
    "    \n",
    "#### same calcs for male data\n",
    "    \n",
    "x_m = male_data.mean()\n",
    "z_m = male_data.copy()\n",
    "\n",
    "for index,rows in z_m.iterrows():\n",
    "    z_m.loc[index] = rows - x_m\n",
    "    \n",
    "c_m = z_m.cov()\n",
    "\n",
    "l, v_m = np.linalg.eigh(c_m)\n",
    "v_m = np.flipud(v_m)\n",
    "v_m = np.real(v_m)\n",
    "    \n",
    "p_m = np.dot(z_m,v_m.T)\n",
    "\n",
    "r_m=np.dot(p_m,v_m)\n",
    "#r is the reduced data\n",
    "\n",
    "xrec_m = r_m.copy()\n",
    "\n",
    "for i in range(len(xrec_m)):\n",
    "    xrec_m[i] = xrec_m[i] + x_m\n",
    "    \n",
    "print(xrec_m-male_data)"
   ]
  },
  {
   "cell_type": "code",
   "execution_count": 103,
   "metadata": {
    "collapsed": false
   },
   "outputs": [
    {
     "name": "stdout",
     "output_type": "stream",
     "text": [
      "[[ 0.  0.  0.  0.  0.  0.  0.  0.  0.]\n",
      " [ 0.  0.  0.  0.  0.  0.  0.  0.  0.]\n",
      " [ 0.  0.  0.  0.  0.  0.  0.  0.  0.]\n",
      " [ 0.  0.  0.  0.  0.  0.  0.  0.  0.]\n",
      " [ 0.  0.  0.  0.  0.  0.  0.  0.  0.]\n",
      " [ 0.  0.  0.  0.  0.  0.  0.  0.  0.]\n",
      " [ 0.  0.  0.  0.  0.  0.  0.  0.  0.]\n",
      " [ 0.  0.  0.  0.  0.  0.  0.  0.  0.]\n",
      " [ 0.  0.  0.  0.  0.  0.  0.  0.  0.]]\n",
      "\n",
      "\n",
      "[[ 0.  0.  0.  0.  0.  0.  0.  0.  0.]\n",
      " [ 0.  0.  0.  0.  0.  0.  0.  0.  0.]\n",
      " [ 0.  0.  0.  0.  0.  0.  0.  0.  0.]\n",
      " [ 0.  0.  0.  0.  0.  0.  0.  0.  0.]\n",
      " [ 0.  0.  0.  0.  0.  0.  0.  0.  0.]\n",
      " [ 0.  0.  0.  0.  0.  0.  0.  0.  0.]\n",
      " [ 0.  0.  0.  0.  0.  0.  0.  0.  0.]\n",
      " [ 0.  0.  0.  0.  0.  0.  0.  0.  0.]\n",
      " [ 0.  0.  0.  0.  0.  0.  0.  0.  0.]]\n"
     ]
    }
   ],
   "source": [
    "rec_f = one_histo(xrec_f, mins, maxs)\n",
    "rec_m = one_histo(xrec_m, mins, maxs)\n",
    "\n",
    "#check that reconstructed f is the same as f\n",
    "#check that reconstructed m is the same as m\n",
    "\n",
    "print(rec_f - counts_f)\n",
    "print('\\n')\n",
    "print(rec_m - counts_m)\n",
    "\n",
    "#output results to excel file\n",
    "\n",
    "# writeExcelData(x,excelfile,sheetname,startrow,startcol)\n"
   ]
  },
  {
   "cell_type": "code",
   "execution_count": 106,
   "metadata": {
    "collapsed": false
   },
   "outputs": [],
   "source": [
    "import ReadWriteExcel as rw\n",
    "\n",
    "rw.writeExcelData(pd.DataFrame(rec_f), \"Assignment_2_Data_and_Template.xlsx\", \"Reconstructed Female Histogram\", 7, 2)\n",
    "rw.writeExcelData(pd.DataFrame(rec_m), \"Assignment_2_Data_and_Template.xlsx\", \"Reconstructed Male Histogram\", 7, 2)"
   ]
  },
  {
   "cell_type": "code",
   "execution_count": null,
   "metadata": {
    "collapsed": false
   },
   "outputs": [],
   "source": [
    "#determine histogram for reduced data\n",
    "r_bins = 22\n",
    "c_bins = 11\n",
    "\n",
    "# Determine bin widths based on maximum of each data set\n",
    "f_r_bw = np.ceil((r_f['Height'].max() - r_f['Height'].min()) / r_bins)\n",
    "f_c_bw = np.ceil((r_f['HandSpan'].max() - r_f['HandSpan'].min()) / c_bins)\n",
    "\n",
    "m_r_bw = np.ceil((r_m['Height'].max() - r_m['Height'].min()) / r_bins)\n",
    "m_c_bw = np.ceil((r_m['HandSpan'].max() - r_m['HandSpan'].min()) / c_bins)\n",
    "\n",
    "# Determine which bin each data point falls\n",
    "\n",
    "r_f['Height'] = np.floor(r_f['Height'] / f_r_bw)\n",
    "r_f['HandSpan'] = np.floor(r_f['HandSpan'] / f_c_bw)\n",
    "\n",
    "r_m['Height'] = np.floor(r_m['Height'] / m_r_bw)\n",
    "r_m['HandSpan'] = np.floor(r_m['HandSpan'] / m_c_bw)\n",
    "\n",
    "# Determine how many data points fall within each bin\n",
    "\n",
    "counts_f = np.zeros((r_bins, c_bins))\n",
    "counts_m = np.zeros((r_bins, c_bins))\n",
    "\n",
    "min_r_bin = np.floor(r_f['Height'].min())\n",
    "min_c_bin = np.floor(r_f['HandSpan'].min())\n",
    "\n",
    "for index,rows in r_f.iterrows():\n",
    "    counts_f[rows['Height']-min_r_bin][rows['HandSpan']-min_c_bin] += 1\n",
    "    \n",
    "for index,rows in r_m.iterrows():\n",
    "    if index != 71:\n",
    "        counts_m[rows['Height']- min_r_bin][rows['HandSpan']-min_c_bin] += 1\n",
    "    else:\n",
    "        print(index)\n",
    "        print(rows)"
   ]
  },
  {
   "cell_type": "code",
   "execution_count": null,
   "metadata": {
    "collapsed": false,
    "scrolled": true
   },
   "outputs": [],
   "source": [
    "#plot 2D histogram\n",
    "\n",
    "plb.subplot(1, 2, 1);\n",
    "plb.imshow(counts_f,interpolation='None',cmap=plb.get_cmap('gray'));\n",
    "plb.subplot(1, 2, 2);\n",
    "plb.imshow(counts_m,interpolation='None',cmap=plb.get_cmap('gray'));\n",
    "plb.show()"
   ]
  },
  {
   "cell_type": "code",
   "execution_count": null,
   "metadata": {
    "collapsed": true
   },
   "outputs": [],
   "source": []
  }
 ],
 "metadata": {
  "anaconda-cloud": {},
  "kernelspec": {
   "display_name": "Python [default]",
   "language": "python",
   "name": "python3"
  },
  "language_info": {
   "codemirror_mode": {
    "name": "ipython",
    "version": 3
   },
   "file_extension": ".py",
   "mimetype": "text/x-python",
   "name": "python",
   "nbconvert_exporter": "python",
   "pygments_lexer": "ipython3",
   "version": "3.5.2"
  }
 },
 "nbformat": 4,
 "nbformat_minor": 1
}
