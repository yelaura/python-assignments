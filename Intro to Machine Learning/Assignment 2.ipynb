{
 "cells": [
  {
   "cell_type": "code",
   "execution_count": 6,
   "metadata": {
    "collapsed": false
   },
   "outputs": [],
   "source": [
    "import numpy as np\n",
    "import pandas as pd\n",
    "import pylab as plb"
   ]
  },
  {
   "cell_type": "markdown",
   "metadata": {},
   "source": [
    "The data set that you need is in one of the sheets of the Excel file Assignment_2_Data_and_Template.xlsx (attached). The other sheets contain shaded cells meant to be filled in by you. Examine the sheets carefully and understand what must be computed or described. Except for cutting and pasting your results in the specific cells provided, do not alter the spreadsheet in any other way. This is the only recognized means of submitting this assignment."
   ]
  },
  {
   "cell_type": "code",
   "execution_count": 7,
   "metadata": {
    "collapsed": false
   },
   "outputs": [],
   "source": [
    "# Import data into Panda.DataFrame\n",
    "df = pd.read_excel('Assignment_2_Data_and_Template.xlsx')\n",
    "\n",
    "# Filter out data for Male and Female data\n",
    "male_data = df.loc[df['Sex'] == 'Male']\n",
    "female_data = df.loc[df['Sex'] == 'Female']\n",
    "\n",
    "female_data = female_data.drop('Sex', 1)\n",
    "female_data = female_data.reset_index(drop=True)\n",
    "male_data = male_data.drop('Sex', 1)\n",
    "male_data = male_data.reset_index(drop=True)"
   ]
  },
  {
   "cell_type": "code",
   "execution_count": 8,
   "metadata": {
    "collapsed": false
   },
   "outputs": [],
   "source": [
    "r_bins = 22\n",
    "c_bins = 11\n",
    "\n",
    "# Determine bin widths based on maximum of each data set\n",
    "f_r_bw = np.ceil((female_data['Height'].max() - female_data['Height'].min()) / r_bins)\n",
    "f_c_bw = np.ceil((female_data['HandSpan'].max() - female_data['HandSpan'].min()) / c_bins)\n",
    "\n",
    "m_r_bw = np.ceil((male_data['Height'].max() - male_data['Height'].min()) / r_bins)\n",
    "m_c_bw = np.ceil((male_data['HandSpan'].max() - male_data['HandSpan'].min()) / c_bins)"
   ]
  },
  {
   "cell_type": "markdown",
   "metadata": {},
   "source": [
    "Construct separate 2D histograms for male and female heights. You decide on the number of bins to use, making sure there is sufficient resolution and bin-filling. Represent height in rows, and handspan in columns -- both in ascending order of magnitude of feature. Do not use a built-in histogram program. "
   ]
  },
  {
   "cell_type": "code",
   "execution_count": 9,
   "metadata": {
    "collapsed": false
   },
   "outputs": [
    {
     "name": "stderr",
     "output_type": "stream",
     "text": [
      "C:\\Users\\lye\\AppData\\Local\\Continuum\\Anaconda3\\lib\\site-packages\\ipykernel\\__main__.py:28: VisibleDeprecationWarning: using a non-integer number instead of an integer will result in an error in the future\n",
      "C:\\Users\\lye\\AppData\\Local\\Continuum\\Anaconda3\\lib\\site-packages\\ipykernel\\__main__.py:31: VisibleDeprecationWarning: using a non-integer number instead of an integer will result in an error in the future\n"
     ]
    }
   ],
   "source": [
    "r_bins = 22\n",
    "c_bins = 11\n",
    "\n",
    "# Determine bin widths based on maximum of each data set\n",
    "f_r_bw = np.ceil((female_data['Height'].max() - female_data['Height'].min()) / r_bins)\n",
    "f_c_bw = np.ceil((female_data['HandSpan'].max() - female_data['HandSpan'].min()) / c_bins)\n",
    "\n",
    "m_r_bw = np.ceil((male_data['Height'].max() - male_data['Height'].min()) / r_bins)\n",
    "m_c_bw = np.ceil((male_data['HandSpan'].max() - male_data['HandSpan'].min()) / c_bins)\n",
    "\n",
    "# Determine which bin each data point falls\n",
    "\n",
    "female_data['Height'] = np.floor(female_data['Height'] / f_r_bw)\n",
    "female_data['HandSpan'] = np.floor(female_data['HandSpan'] / f_c_bw)\n",
    "\n",
    "male_data['Height'] = np.floor(male_data['Height'] / m_r_bw)\n",
    "male_data['HandSpan'] = np.floor(male_data['HandSpan'] / m_c_bw)\n",
    "\n",
    "# Determine how many data points fall within each bin\n",
    "\n",
    "counts_f = np.zeros((r_bins, c_bins))\n",
    "counts_m = np.zeros((r_bins, c_bins))\n",
    "\n",
    "min_r_bin = np.floor(female_data['Height'].min())\n",
    "min_c_bin = np.floor(female_data['HandSpan'].min())\n",
    "\n",
    "for index,rows in female_data.iterrows():\n",
    "    counts_f[rows['Height']-min_r_bin][rows['HandSpan']-min_c_bin] += 1\n",
    "    \n",
    "for index,rows in male_data.iterrows():\n",
    "    counts_m[rows['Height']-min_r_bin][rows['HandSpan']-min_c_bin] += 1"
   ]
  },
  {
   "cell_type": "code",
   "execution_count": 10,
   "metadata": {
    "collapsed": false
   },
   "outputs": [
    {
     "data": {
      "image/png": "[encoded data removed]",
      "text/plain": [
       "<matplotlib.figure.Figure at 0x94d06d8>"
      ]
     },
     "metadata": {},
     "output_type": "display_data"
    }
   ],
   "source": [
    "#plot 2D histogram\n",
    "\n",
    "plb.subplot(1, 2, 1);\n",
    "plb.imshow(counts_f,interpolation='None',cmap=plb.get_cmap('gray'));\n",
    "plb.subplot(1, 2, 2);\n",
    "plb.imshow(counts_m,interpolation='None',cmap=plb.get_cmap('gray'));\n",
    "plb.show()"
   ]
  },
  {
   "cell_type": "markdown",
   "metadata": {},
   "source": [
    "Find the parameters of two 2D Gaussian models for the 2 PDFs to describe the data. Let the first dimension represent height, and the second dimension represent handspan. You may use built-in functions to compute these parameters, but do not use a built-in function to compute the pdf. "
   ]
  },
  {
   "cell_type": "code",
   "execution_count": 11,
   "metadata": {
    "collapsed": true
   },
   "outputs": [],
   "source": [
    "# Function to compute pdf for female\n",
    "def pdf(x_v): \n",
    "    # input: x_v = 1x2 matrix with queried (Height, HandSpan)\n",
    "    # output: probability of being female\n",
    "    \n",
    "    mean = female_data.mean()\n",
    "    total = len(female_data)\n",
    "    cov = female_data.cov()\n",
    "    \n",
    "    sqrt_cov_det = np.sqrt(np.linalg.det(cov))\n",
    "    diff = np.subtract(x_v, mean)\n",
    "    cov_inv = np.linalg.inv(cov)\n",
    "    \n",
    "    f_result = total / (np.sqrt(2*np.pi)*sqrt_cov_det) * np.exp(-0.5 * diff.dot(cov_inv).dot(diff.T))\n",
    "    \n",
    "    mean = male_data.mean()\n",
    "    total = len(male_data)\n",
    "    cov = male_data.cov()\n",
    "    \n",
    "    sqrt_cov_det = np.sqrt(np.linalg.det(cov))\n",
    "    diff = np.subtract(x_v, mean)\n",
    "    cov_inv = np.linalg.inv(cov)\n",
    "    \n",
    "    m_result = total / (np.sqrt(2*np.pi)*sqrt_cov_det) * np.exp(-0.5 * diff.dot(cov_inv).dot(diff.T))\n",
    "    \n",
    "    return f_result / (m_result + f_result)"
   ]
  },
  {
   "cell_type": "markdown",
   "metadata": {},
   "source": [
    "Based on the histograms and Gaussian models, compute the likely gender (given as the probability of being female) of individuals with measurements as given below (Height in inches, handspan in centimeters). What are your observations?\n",
    "\n",
    "Height  Handspan\n",
    "69       17.5\n",
    "66       22\n",
    "70       21.5\n",
    "69       23.5"
   ]
  },
  {
   "cell_type": "code",
   "execution_count": 12,
   "metadata": {
    "collapsed": false
   },
   "outputs": [
    {
     "name": "stdout",
     "output_type": "stream",
     "text": [
      "0.921590371319\n",
      "0.605581183985\n",
      "0.158278511823\n",
      "0.0486248054425\n"
     ]
    }
   ],
   "source": [
    "print(pdf((69,17.5)))\n",
    "print(pdf((66,22)))\n",
    "print(pdf((70,21.5)))\n",
    "print(pdf((69,23.5)))"
   ]
  },
  {
   "cell_type": "markdown",
   "metadata": {},
   "source": [
    "Extra credit: Reconstruct a histogram using female model parameters that can be compared to the female histogram constructed in Part 2. Similarly, reconstruct a histogram using male model parameters."
   ]
  },
  {
   "cell_type": "markdown",
   "metadata": {},
   "source": [
    "XZCVPR"
   ]
  },
  {
   "cell_type": "code",
   "execution_count": 13,
   "metadata": {
    "collapsed": false
   },
   "outputs": [],
   "source": [
    "x = female_data.mean()\n",
    "z = female_data.copy()\n",
    "\n",
    "for index,rows in z.iterrows():\n",
    "    z.loc[index] = rows - x\n",
    "    \n",
    "c = z.cov()\n",
    "\n",
    "l, v = np.linalg.eig(c)\n",
    "    \n",
    "p = z.dot(v)\n",
    "\n",
    "r_f = p.dot(v)\n",
    "#r is the reduced data\n",
    "r_f.columns = ['Height', 'HandSpan']\n",
    "\n",
    "for index,rows in r_f.iterrows():\n",
    "    r_f.loc[index] = rows + x\n",
    "    \n",
    "#same calcs but for male\n",
    "    \n",
    "x = male_data.mean()\n",
    "z = male_data.copy()\n",
    "\n",
    "for index,rows in z.iterrows():\n",
    "    z.loc[index] = rows - x\n",
    "    \n",
    "c = z.cov()\n",
    "\n",
    "l, v = np.linalg.eig(c)\n",
    "    \n",
    "p = z.dot(v)\n",
    "\n",
    "r_m = p.dot(v)\n",
    "#r is the reduced data\n",
    "r_m.columns = ['Height', 'HandSpan']\n",
    "\n",
    "for index,rows in r_m.iterrows():\n",
    "    r_m.loc[index] = rows + x"
   ]
  },
  {
   "cell_type": "code",
   "execution_count": 14,
   "metadata": {
    "collapsed": false
   },
   "outputs": [
    {
     "name": "stdout",
     "output_type": "stream",
     "text": [
      "71\n",
      "Height      78.0\n",
      "HandSpan    20.0\n",
      "Name: 71, dtype: float64\n"
     ]
    },
    {
     "name": "stderr",
     "output_type": "stream",
     "text": [
      "C:\\Users\\lye\\AppData\\Local\\Continuum\\Anaconda3\\lib\\site-packages\\ipykernel\\__main__.py:29: VisibleDeprecationWarning: using a non-integer number instead of an integer will result in an error in the future\n",
      "C:\\Users\\lye\\AppData\\Local\\Continuum\\Anaconda3\\lib\\site-packages\\ipykernel\\__main__.py:33: VisibleDeprecationWarning: using a non-integer number instead of an integer will result in an error in the future\n"
     ]
    }
   ],
   "source": [
    "#determine histogram for reduced data\n",
    "r_bins = 22\n",
    "c_bins = 11\n",
    "\n",
    "# Determine bin widths based on maximum of each data set\n",
    "f_r_bw = np.ceil((r_f['Height'].max() - r_f['Height'].min()) / r_bins)\n",
    "f_c_bw = np.ceil((r_f['HandSpan'].max() - r_f['HandSpan'].min()) / c_bins)\n",
    "\n",
    "m_r_bw = np.ceil((r_m['Height'].max() - r_m['Height'].min()) / r_bins)\n",
    "m_c_bw = np.ceil((r_m['HandSpan'].max() - r_m['HandSpan'].min()) / c_bins)\n",
    "\n",
    "# Determine which bin each data point falls\n",
    "\n",
    "r_f['Height'] = np.floor(r_f['Height'] / f_r_bw)\n",
    "r_f['HandSpan'] = np.floor(r_f['HandSpan'] / f_c_bw)\n",
    "\n",
    "r_m['Height'] = np.floor(r_m['Height'] / m_r_bw)\n",
    "r_m['HandSpan'] = np.floor(r_m['HandSpan'] / m_c_bw)\n",
    "\n",
    "# Determine how many data points fall within each bin\n",
    "\n",
    "counts_f = np.zeros((r_bins, c_bins))\n",
    "counts_m = np.zeros((r_bins, c_bins))\n",
    "\n",
    "min_r_bin = np.floor(r_f['Height'].min())\n",
    "min_c_bin = np.floor(r_f['HandSpan'].min())\n",
    "\n",
    "for index,rows in r_f.iterrows():\n",
    "    counts_f[rows['Height']-min_r_bin][rows['HandSpan']-min_c_bin] += 1\n",
    "    \n",
    "for index,rows in r_m.iterrows():\n",
    "    if index != 71:\n",
    "        counts_m[rows['Height']- min_r_bin][rows['HandSpan']-min_c_bin] += 1\n",
    "    else:\n",
    "        print(index)\n",
    "        print(rows)"
   ]
  },
  {
   "cell_type": "code",
   "execution_count": 15,
   "metadata": {
    "collapsed": false,
    "scrolled": true
   },
   "outputs": [
    {
     "data": {
      "image/png": "[encoded data removed]",
      "text/plain": [
       "<matplotlib.figure.Figure at 0xab14cf8>"
      ]
     },
     "metadata": {},
     "output_type": "display_data"
    }
   ],
   "source": [
    "#plot 2D histogram\n",
    "\n",
    "plb.subplot(1, 2, 1);\n",
    "plb.imshow(counts_f,interpolation='None',cmap=plb.get_cmap('gray'));\n",
    "plb.subplot(1, 2, 2);\n",
    "plb.imshow(counts_m,interpolation='None',cmap=plb.get_cmap('gray'));\n",
    "plb.show()"
   ]
  },
  {
   "cell_type": "code",
   "execution_count": null,
   "metadata": {
    "collapsed": true
   },
   "outputs": [],
   "source": []
  }
 ],
 "metadata": {
  "anaconda-cloud": {},
  "kernelspec": {
   "display_name": "Python [default]",
   "language": "python",
   "name": "python3"
  },
  "language_info": {
   "codemirror_mode": {
    "name": "ipython",
    "version": 3
   },
   "file_extension": ".py",
   "mimetype": "text/x-python",
   "name": "python",
   "nbconvert_exporter": "python",
   "pygments_lexer": "ipython3",
   "version": "3.5.2"
  }
 },
 "nbformat": 4,
 "nbformat_minor": 1
}
