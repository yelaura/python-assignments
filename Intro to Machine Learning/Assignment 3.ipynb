{
 "cells": [
  {
   "cell_type": "markdown",
   "metadata": {},
   "source": [
    "Import handwritten digit data from yann.lecun.com/exdb/mnist (four files). You only need the training data for this assignment. Refer to the Python code suggested in Read_MNIST.html\n",
    "View in a new window to read and parse the data."
   ]
  },
  {
   "cell_type": "code",
   "execution_count": 4,
   "metadata": {
    "collapsed": false
   },
   "outputs": [],
   "source": [
    "import os, struct\n",
    "import matplotlib as plt\n",
    "from array import array as pyarray\n",
    "from numpy import append, array, int8, uint8, zeros as np\n",
    "\n",
    "def load_mnist(dataset=\"training\", digits=range(10), path='.\\\\'):\n",
    "    \n",
    "    \"\"\"\n",
    "    Adapted from: http://cvxopt.org/applications/svm/index.html?highlight=mnist\n",
    "    \"\"\"\n",
    "\n",
    "    if dataset == \"training\":\n",
    "        fname_img = os.path.join(path, 'train-images.idx3-ubyte')\n",
    "        fname_lbl = os.path.join(path, 'train-labels.idx1-ubyte')\n",
    "    elif dataset == \"testing\":\n",
    "        fname_img = os.path.join(path, 't10k-images.idx')\n",
    "        fname_lbl = os.path.join(path, 't10k-labels.idx')\n",
    "    else:\n",
    "        raise ValueError(\"dataset must be 'testing' or 'training'\")\n",
    "\n",
    "    flbl = open(fname_lbl, 'rb')\n",
    "    magic_nr, size = struct.unpack(\">II\", flbl.read(8))\n",
    "    lbl = pyarray(\"b\", flbl.read())\n",
    "    flbl.close()\n",
    "\n",
    "    fimg = open(fname_img, 'rb')\n",
    "    magic_nr, size, rows, cols = struct.unpack(\">IIII\", fimg.read(16))\n",
    "    img = pyarray(\"B\", fimg.read())\n",
    "    fimg.close()\n",
    "\n",
    "    ind = [ k for k in range(size) if lbl[k] in digits ]\n",
    "    N = len(ind)\n",
    "\n",
    "    images = zeros((N, rows, cols), dtype=uint8)\n",
    "    labels = zeros((N, 1), dtype=int8)\n",
    "    for i in range(len(ind)):\n",
    "        images[i] = array(img[ ind[i]*rows*cols : (ind[i]+1)*rows*cols ]).reshape((rows, cols))\n",
    "        labels[i] = lbl[ind[i]]\n",
    "\n",
    "    return images, labels"
   ]
  },
  {
   "cell_type": "markdown",
   "metadata": {},
   "source": [
    "Prepare the data you will use for this assignment by limiting the imported data to two specific digits. The exact two digits that you will use for the rest of the assignment is given in a table following these instructions. The positive and negative class labels have also been identified for you."
   ]
  },
  {
   "cell_type": "code",
   "execution_count": 5,
   "metadata": {
    "collapsed": false
   },
   "outputs": [],
   "source": [
    "from pylab import *\n",
    "from numpy import *\n",
    "import scipy.sparse as sparse\n",
    "import scipy.linalg as linalg\n",
    "\n",
    "images, labels = load_mnist('training', digits=[1,9])\n",
    "\n",
    "# converting from NX28X28 array into NX784 array\n",
    "flatimages = list()\n",
    "for i in images:\n",
    "    flatimages.append(i.ravel())\n",
    "X = np.asarray(flatimages)"
   ]
  },
  {
   "cell_type": "code",
   "execution_count": 6,
   "metadata": {
    "collapsed": false
   },
   "outputs": [
    {
     "name": "stdout",
     "output_type": "stream",
     "text": [
      "Check shape of matrix (12691, 784)\n",
      "Check Mins and Max Values 0 255\n",
      "\n",
      "Check training vector by plotting image \n",
      "\n"
     ]
    },
    {
     "data": {
      "image/png": "[encoded data removed]",
      "text/plain": [
       "<matplotlib.figure.Figure at 0x794a518>"
      ]
     },
     "metadata": {},
     "output_type": "display_data"
    }
   ],
   "source": [
    "print(\"Check shape of matrix\", X.shape)\n",
    "print(\"Check Mins and Max Values\",np.amin(X),np.amax(X))\n",
    "print(\"\\nCheck training vector by plotting image \\n\")\n",
    "plt.imshow(X[25].reshape(28, 28),interpolation='None', cmap=cm.gray)\n",
    "show()"
   ]
  },
  {
   "cell_type": "markdown",
   "metadata": {},
   "source": [
    "Prepare your X matrix and target vector T"
   ]
  },
  {
   "cell_type": "markdown",
   "metadata": {},
   "source": [
    "Go through the XZCVP procedure to produce P which is the 2D approximation to X. The mean vector (mu) and two eigenvectors (v1, v2) calculated in completing this step must also be entered into the Excel template attached. You will also need to paste a picture of the 2D scatterplot showing the two classes.s"
   ]
  },
  {
   "cell_type": "code",
   "execution_count": 72,
   "metadata": {
    "collapsed": false
   },
   "outputs": [
    {
     "data": {
      "image/png": "[encoded data removed]",
      "text/plain": [
       "<matplotlib.figure.Figure at 0x12c31358>"
      ]
     },
     "metadata": {},
     "output_type": "display_data"
    }
   ],
   "source": [
    "X_miu = X.mean(axis=0)\n",
    "\n",
    "Z = X - X_miu\n",
    " \n",
    "C=np.cov(Z,rowvar=False)\n",
    "#C = np.cov(Z.T)\n",
    "#verified that C=C.T\n",
    "\n",
    "[λ,V]=np.linalg.eigh(C)\n",
    "V=np.flipud(V.T)\n",
    "V_new=np.ndarray((2, 784))\n",
    "V_new[0] = V[0, :]\n",
    "V_new[1] = V[1, :]\n",
    "\n",
    "V_new = np.real(V_new)\n",
    "\n",
    "P=np.dot(Z,V_new.T)\n",
    "\n",
    "R=np.dot(P,V_new)\n",
    "\n",
    "Xrec=R+X_miu\n",
    "\n",
    "showimage(Xrec[50])"
   ]
  },
  {
   "cell_type": "code",
   "execution_count": 102,
   "metadata": {
    "collapsed": false
   },
   "outputs": [
    {
     "data": {
      "image/png": "[encoded data removed]",
      "text/plain": [
       "<matplotlib.figure.Figure at 0x10ef7cf8>"
      ]
     },
     "metadata": {},
     "output_type": "display_data"
    }
   ],
   "source": [
    "#Plot 2D point-clouds of the first two principal components of 𝑃 and verify that they form two (mostly) separable clusters.\n",
    "\n",
    "Xrec2=(np.dot(P[:,0:2],V_new[0:2,:]))+X_miu\n",
    "\n",
    "#showimage(Xrec2[50])\n",
    "\n",
    "#Note that T contains class labels labeln and labelp (e.g. 5 & 6)\n",
    "import pandas as pd\n",
    "\n",
    "T=labels\n",
    "\n",
    "cols=zeros((12691,4))\n",
    "#cols[T==9]=[0,1,0,0.25]\n",
    "#cols[T==1]=[1,0,0,0.25]\n",
    "\n",
    "for i in range(len(cols)):\n",
    "    if T[i]==9:\n",
    "        cols[i] = [0,1,0,0.25]\n",
    "    else:\n",
    "        cols[i] = [1,0,0,0.25]\n",
    "\n",
    "randomorder=permutation(arange(alen(T))); #Don't worry about this stuff. Just makes a pretty picture\n",
    " \n",
    "fig = figure()\n",
    "ax = fig.add_subplot(111, facecolor='black')\n",
    "ax.scatter(P[randomorder,1],P[randomorder,0],s=5,linewidths=0,facecolors=cols[randomorder,:],marker=\"o\");\n",
    "ax.set_aspect('equal');\n",
    "gca().invert_yaxis();\n",
    "show()"
   ]
  },
  {
   "cell_type": "markdown",
   "metadata": {},
   "source": [
    "Optional: Write a program, call a builtin function or use the “manual” procedure explained in class to convert any given 784 element feature vector in X to an image. No submission is required."
   ]
  },
  {
   "cell_type": "code",
   "execution_count": 10,
   "metadata": {
    "collapsed": true
   },
   "outputs": [],
   "source": [
    "import pylab\n",
    "def showimage(arr):\n",
    "    pylab.imshow(arr.reshape(28,28),interpolation='None', cmap=cm.gray)\n",
    "    show()"
   ]
  },
  {
   "cell_type": "markdown",
   "metadata": {},
   "source": [
    "Optional: Visually verify that the corresponding element of P, when projected back to 784 dimensions and visualized as an image still looks like the original image. That is, visually verify that reduction in dimension does not significantly compromise the identity of the samples. No submission is required."
   ]
  },
  {
   "cell_type": "code",
   "execution_count": 103,
   "metadata": {
    "collapsed": false
   },
   "outputs": [
    {
     "data": {
      "image/png": "[encoded data removed]",
      "text/plain": [
       "<matplotlib.figure.Figure at 0xcc63160>"
      ]
     },
     "metadata": {},
     "output_type": "display_data"
    }
   ],
   "source": [
    "showimage(Xrec[100])"
   ]
  },
  {
   "cell_type": "code",
   "execution_count": 45,
   "metadata": {
    "collapsed": false
   },
   "outputs": [],
   "source": [
    "# inputting data into Excel\n",
    "import ReadWriteExcel as rw\n",
    "\n",
    "# writeExcelData(x,excelfile,sheetname,startrow,startcol)\n",
    "rw.writeExcelData(pd.DataFrame(X_miu).T, \"Assignment_3_ Submission_Template.xlsx\", \"Results\", 2, 2)\n",
    "rw.writeExcelData(pd.DataFrame(V_new[0]).T, \"Assignment_3_ Submission_Template.xlsx\", \"Results\", 3, 2)\n",
    "rw.writeExcelData(pd.DataFrame(V_new[1]).T, \"Assignment_3_ Submission_Template.xlsx\", \"Results\", 4, 2)"
   ]
  },
  {
   "cell_type": "markdown",
   "metadata": {},
   "source": [
    "Build a histogram classifier and a Bayesian classifier (both 2D) assuming that the feature vectors are distributed normally in the reduced dimensional space. Note: All the specifications needed to apply the classifiers must be entered into the Excel template attached. For the histogram classifier, the specifications include the ranges (min, max) covered by the two features, number of bins (fixed for you at 25x25), and the histogram counts. For the Bayesian classifier, the specifications include the number of samples in the two classes, the mean vectors and covariance matrices. In order to use either classifier on a 784D query, the mean vectors and eigenvectors (Step 4 above) are needed."
   ]
  },
  {
   "cell_type": "code",
   "execution_count": null,
   "metadata": {
    "collapsed": true
   },
   "outputs": [],
   "source": [
    "df=pd.DataFrame(labels)\n",
    "one = df.loc[df[0] == 1]\n",
    "nine = df.loc[df[0] == 9]\n",
    "\n",
    "n_p = len(df.loc[df[0]== 9])\n",
    "n_n = len(df.loc[df[0]== 1])\n",
    "\n",
    "\n",
    "\n"
   ]
  },
  {
   "cell_type": "code",
   "execution_count": null,
   "metadata": {
    "collapsed": true
   },
   "outputs": [],
   "source": [
    "#write results to Excel file\n",
    "\n",
    "rw.writeExcelData([n_p, n_n], \"Assignment_3_ Submission_Template.xlsx\", \"Results\", 6, 2)"
   ]
  },
  {
   "cell_type": "markdown",
   "metadata": {},
   "source": [
    "Exhibit any one representative positive feature vector xp and the corresponding mean-subtracted vector (zp), 2D representation (pp), reconstructed mean-subtracted vector (rp), and reconstructed mean-adjusted vector (xrecp). Do the same for any one representative negative feature vector xn."
   ]
  },
  {
   "cell_type": "markdown",
   "metadata": {},
   "source": [
    "Run xp and xn through both the classifiers and record the results (e.g. what is xp recognized as? With what probability? See the Excel sheet to understand how to report the results.)"
   ]
  },
  {
   "cell_type": "markdown",
   "metadata": {},
   "source": [
    "Evaluate the training accuracy of your two classifiers (2D histogram and Bayesian) and record the results."
   ]
  },
  {
   "cell_type": "markdown",
   "metadata": {},
   "source": [
    "Note: The helpful document PCA_Simple_Example.html has been provided for guidance in implementing the XZCVPR process. Also see the slide titled \"How do I ace Assignment 3?\"\n",
    "\n",
    "Digits: 1 (negative), 9 (positive)"
   ]
  }
 ],
 "metadata": {
  "anaconda-cloud": {},
  "kernelspec": {
   "display_name": "Python [conda root]",
   "language": "python",
   "name": "conda-root-py"
  },
  "language_info": {
   "codemirror_mode": {
    "name": "ipython",
    "version": 3
   },
   "file_extension": ".py",
   "mimetype": "text/x-python",
   "name": "python",
   "nbconvert_exporter": "python",
   "pygments_lexer": "ipython3",
   "version": "3.5.2"
  }
 },
 "nbformat": 4,
 "nbformat_minor": 1
}
