{
 "cells": [
  {
   "cell_type": "markdown",
   "metadata": {},
   "source": [
    "Import handwritten digit data from yann.lecun.com/exdb/mnist (four files). You only need the training data for this assignment. Refer to the Python code suggested in Read_MNIST.html\n",
    "View in a new window to read and parse the data."
   ]
  },
  {
   "cell_type": "code",
   "execution_count": 1,
   "metadata": {
    "collapsed": false
   },
   "outputs": [],
   "source": [
    "import os, struct\n",
    "import matplotlib as plt\n",
    "from array import array as pyarray\n",
    "from numpy import append, array, int8, uint8, zeros as np\n",
    "\n",
    "def load_mnist(dataset=\"training\", digits=range(10), path='.\\\\'):\n",
    "    \n",
    "    \"\"\"\n",
    "    Adapted from: http://cvxopt.org/applications/svm/index.html?highlight=mnist\n",
    "    \"\"\"\n",
    "\n",
    "    if dataset == \"training\":\n",
    "        fname_img = os.path.join(path, 'train-images.idx3-ubyte')\n",
    "        fname_lbl = os.path.join(path, 'train-labels.idx1-ubyte')\n",
    "    elif dataset == \"testing\":\n",
    "        fname_img = os.path.join(path, 't10k-images.idx')\n",
    "        fname_lbl = os.path.join(path, 't10k-labels.idx')\n",
    "    else:\n",
    "        raise ValueError(\"dataset must be 'testing' or 'training'\")\n",
    "\n",
    "    flbl = open(fname_lbl, 'rb')\n",
    "    magic_nr, size = struct.unpack(\">II\", flbl.read(8))\n",
    "    lbl = pyarray(\"b\", flbl.read())\n",
    "    flbl.close()\n",
    "\n",
    "    fimg = open(fname_img, 'rb')\n",
    "    magic_nr, size, rows, cols = struct.unpack(\">IIII\", fimg.read(16))\n",
    "    img = pyarray(\"B\", fimg.read())\n",
    "    fimg.close()\n",
    "\n",
    "    ind = [ k for k in range(size) if lbl[k] in digits ]\n",
    "    N = len(ind)\n",
    "\n",
    "    images = zeros((N, rows, cols), dtype=uint8)\n",
    "    labels = zeros((N, 1), dtype=int8)\n",
    "    for i in range(len(ind)):\n",
    "        images[i] = array(img[ ind[i]*rows*cols : (ind[i]+1)*rows*cols ]).reshape((rows, cols))\n",
    "        labels[i] = lbl[ind[i]]\n",
    "\n",
    "    return images, labels"
   ]
  },
  {
   "cell_type": "markdown",
   "metadata": {},
   "source": [
    "Prepare the data you will use for this assignment by limiting the imported data to two specific digits. The exact two digits that you will use for the rest of the assignment is given in a table following these instructions. The positive and negative class labels have also been identified for you."
   ]
  },
  {
   "cell_type": "code",
   "execution_count": 2,
   "metadata": {
    "collapsed": false
   },
   "outputs": [],
   "source": [
    "from pylab import *\n",
    "from numpy import *\n",
    "import scipy.sparse as sparse\n",
    "import scipy.linalg as linalg\n",
    "\n",
    "images, labels = load_mnist('training', digits=[1,9])\n",
    "\n",
    "# converting from NX28X28 array into NX784 array\n",
    "flatimages = list()\n",
    "for i in images:\n",
    "    flatimages.append(i.ravel())\n",
    "X = np.asarray(flatimages)"
   ]
  },
  {
   "cell_type": "code",
   "execution_count": 3,
   "metadata": {
    "collapsed": false
   },
   "outputs": [
    {
     "name": "stdout",
     "output_type": "stream",
     "text": [
      "Check shape of matrix (12691, 784)\n",
      "Check Mins and Max Values 0 255\n",
      "\n",
      "Check training vector by plotting image \n",
      "\n"
     ]
    },
    {
     "data": {
      "image/png": "[encoded data removed]",
      "text/plain": [
       "<matplotlib.figure.Figure at 0x7ce0748>"
      ]
     },
     "metadata": {},
     "output_type": "display_data"
    }
   ],
   "source": [
    "print(\"Check shape of matrix\", X.shape)\n",
    "print(\"Check Mins and Max Values\",np.amin(X),np.amax(X))\n",
    "print(\"\\nCheck training vector by plotting image \\n\")\n",
    "plt.imshow(X[99].reshape(28, 28),interpolation='None', cmap=cm.gray)\n",
    "show()"
   ]
  },
  {
   "cell_type": "markdown",
   "metadata": {},
   "source": [
    "Prepare your X matrix and target vector T"
   ]
  },
  {
   "cell_type": "markdown",
   "metadata": {},
   "source": [
    "Optional: Visually verify that the corresponding element of P, when projected back to 784 dimensions and visualized as an image still looks like the original image. That is, visually verify that reduction in dimension does not significantly compromise the identity of the samples. No submission is required."
   ]
  },
  {
   "cell_type": "code",
   "execution_count": 4,
   "metadata": {
    "collapsed": true
   },
   "outputs": [],
   "source": [
    "import pylab\n",
    "def showimage(arr, size=28):\n",
    "    pylab.imshow(arr.reshape(size,size),interpolation='None', cmap=cm.gray)\n",
    "    show()"
   ]
  },
  {
   "cell_type": "markdown",
   "metadata": {},
   "source": [
    "Go through the XZCVP procedure to produce P which is the 2D approximation to X. The mean vector (mu) and two eigenvectors (v1, v2) calculated in completing this step must also be entered into the Excel template attached. You will also need to paste a picture of the 2D scatterplot showing the two classes.s"
   ]
  },
  {
   "cell_type": "code",
   "execution_count": 5,
   "metadata": {
    "collapsed": false
   },
   "outputs": [
    {
     "data": {
      "image/png": "[encoded data removed]",
      "text/plain": [
       "<matplotlib.figure.Figure at 0x93474a8>"
      ]
     },
     "metadata": {},
     "output_type": "display_data"
    }
   ],
   "source": [
    "X_miu = X.mean(axis=0)\n",
    "\n",
    "Z = X - X_miu\n",
    " \n",
    "C=np.cov(Z,rowvar=False)\n",
    "#C = np.cov(Z.T)\n",
    "#verified that C=C.T\n",
    "\n",
    "[λ,V]=np.linalg.eigh(C)\n",
    "V=np.flipud(V.T)\n",
    "V_new=np.ndarray((2, 784))\n",
    "V_new[0] = V[0, :]\n",
    "V_new[1] = V[1, :]\n",
    "\n",
    "V_new = np.real(V_new)\n",
    "\n",
    "P=np.dot(Z,V_new.T)\n",
    "\n",
    "R=np.dot(P,V_new)\n",
    "\n",
    "Xrec=R+X_miu\n",
    "\n",
    "showimage(Xrec[50])"
   ]
  },
  {
   "cell_type": "code",
   "execution_count": 6,
   "metadata": {
    "collapsed": false
   },
   "outputs": [
    {
     "data": {
      "image/png": "[encoded data removed]",
      "text/plain": [
       "<matplotlib.figure.Figure at 0x964fac8>"
      ]
     },
     "metadata": {},
     "output_type": "display_data"
    }
   ],
   "source": [
    "#Plot 2D point-clouds of the first two principal components of 𝑃 and verify that they form two (mostly) separable clusters.\n",
    "\n",
    "Xrec2=(np.dot(P[:,0:2],V_new[0:2,:]))+X_miu\n",
    "\n",
    "#showimage(Xrec2[50])\n",
    "\n",
    "#Note that T contains class labels labeln and labelp (e.g. 5 & 6)\n",
    "import pandas as pd\n",
    "\n",
    "T=labels\n",
    "\n",
    "cols=zeros((12691,4))\n",
    "#cols[T==9]=[0,1,0,0.25]\n",
    "#cols[T==1]=[1,0,0,0.25]\n",
    "\n",
    "for i in range(len(cols)):\n",
    "    if T[i]==9:\n",
    "        cols[i] = [0,1,0,0.25]\n",
    "    else:\n",
    "        cols[i] = [1,0,0,0.25]\n",
    "\n",
    "randomorder=permutation(arange(alen(T))); #Don't worry about this stuff. Just makes a pretty picture\n",
    " \n",
    "fig = figure()\n",
    "ax = fig.add_subplot(111, facecolor='black')\n",
    "ax.scatter(P[randomorder,1],P[randomorder,0],s=5,linewidths=0,facecolors=cols[randomorder,:],marker=\"o\");\n",
    "ax.set_aspect('equal');\n",
    "gca().invert_yaxis();\n",
    "show()"
   ]
  },
  {
   "cell_type": "markdown",
   "metadata": {},
   "source": [
    "Optional: Write a program, call a builtin function or use the “manual” procedure explained in class to convert any given 784 element feature vector in X to an image. No submission is required."
   ]
  },
  {
   "cell_type": "code",
   "execution_count": 7,
   "metadata": {
    "collapsed": false
   },
   "outputs": [
    {
     "data": {
      "image/png": "[encoded data removed]",
      "text/plain": [
       "<matplotlib.figure.Figure at 0x95ff198>"
      ]
     },
     "metadata": {},
     "output_type": "display_data"
    }
   ],
   "source": [
    "showimage(Xrec[100])"
   ]
  },
  {
   "cell_type": "code",
   "execution_count": 8,
   "metadata": {
    "collapsed": false
   },
   "outputs": [],
   "source": [
    "# inputting data into Excel\n",
    "import ReadWriteExcel as rw\n",
    "\n",
    "# writeExcelData(x,excelfile,sheetname,startrow,startcol)\n",
    "rw.writeExcelData(pd.DataFrame(X_miu).T, \"Assignment_3_ Submission_Template.xlsx\", \"Results\", 2, 2)\n",
    "rw.writeExcelData(pd.DataFrame(V_new[0]).T, \"Assignment_3_ Submission_Template.xlsx\", \"Results\", 3, 2)\n",
    "rw.writeExcelData(pd.DataFrame(V_new[1]).T, \"Assignment_3_ Submission_Template.xlsx\", \"Results\", 4, 2)"
   ]
  },
  {
   "cell_type": "markdown",
   "metadata": {},
   "source": [
    "Build a histogram classifier and a Bayesian classifier (both 2D) assuming that the feature vectors are distributed normally in the reduced dimensional space. Note: All the specifications needed to apply the classifiers must be entered into the Excel template attached. For the histogram classifier, the specifications include the ranges (min, max) covered by the two features, number of bins (fixed for you at 25x25), and the histogram counts. For the Bayesian classifier, the specifications include the number of samples in the two classes, the mean vectors and covariance matrices. In order to use either classifier on a 784D query, the mean vectors and eigenvectors (Step 4 above) are needed."
   ]
  },
  {
   "cell_type": "code",
   "execution_count": 9,
   "metadata": {
    "collapsed": false
   },
   "outputs": [],
   "source": [
    "import pandas as pd\n",
    "df=pd.DataFrame(labels)\n",
    "one = df.loc[df[0] == 1]\n",
    "nine = df.loc[df[0] == 9]\n",
    "\n",
    "n_p = len(df.loc[df[0]== 9])\n",
    "n_n = len(df.loc[df[0]== 1])"
   ]
  },
  {
   "cell_type": "code",
   "execution_count": 10,
   "metadata": {
    "collapsed": false
   },
   "outputs": [
    {
     "data": {
      "image/png": "[encoded data removed]",
      "text/plain": [
       "<matplotlib.figure.Figure at 0x12a17da0>"
      ]
     },
     "metadata": {},
     "output_type": "display_data"
    },
    {
     "data": {
      "image/png": "[encoded data removed]",
      "text/plain": [
       "<matplotlib.figure.Figure at 0x12896518>"
      ]
     },
     "metadata": {},
     "output_type": "display_data"
    }
   ],
   "source": [
    "ones = X[one.index]\n",
    "nines = X[nine.index]\n",
    "\n",
    "miu_p = nines.mean(axis=0)\n",
    "miu_n = ones.mean(axis=0)\n",
    "\n",
    "z = (nines-miu_p, ones-miu_n)\n",
    "C = (np.cov(z[0], rowvar=False), np.cov(z[1], rowvar=False))\n",
    "l, v1 = np.linalg.eigh(C[0])\n",
    "l, v2 = np.linalg.eigh(C[1])\n",
    "\n",
    "v1=np.flipud(v1.T)\n",
    "v2=np.flipud(v2.T)\n",
    "\n",
    "v1_new=np.ndarray((2, 784))\n",
    "v1_new[0] = v1[0, :]\n",
    "v1_new[1] = v1[1, :]\n",
    "\n",
    "v2_new=np.ndarray((2, 784))\n",
    "v2_new[0] = v2[0, :]\n",
    "v2_new[1] = v2[1, :]\n",
    "\n",
    "v = [v1_new, v2_new]\n",
    "\n",
    "p = (np.dot(z[0], v[0].T), np.dot(z[1], v[1].T))\n",
    "\n",
    "B=25\n",
    "\n",
    "H1 = np.zeros((B,B))\n",
    "H2 = np.zeros((B,B))\n",
    "\n",
    "pmin1 = min(p[0][:,0].min(), p[1][:,0].min())\n",
    "pmin2 = min(p[0][:,1].min(), p[1][:,1].min())\n",
    "pmax1 = max(p[0][:,0].max(), p[1][:,0].max())\n",
    "pmax2 = max(p[0][:,1].max(), p[1][:,1].max())\n",
    "\n",
    "miu_p = p[0].mean(axis=0)\n",
    "miu_n = p[1].mean(axis=0)\n",
    "\n",
    "z = (p[0]-miu_p, p[1]-miu_n)\n",
    "c_pca = (np.cov(z[0].T), np.cov(z[1].T))\n",
    "\n",
    "for i in range(len(p[0])):\n",
    "    r = int(np.floor(1 + (B-1)*(p[0][i][0] - pmin1)/(pmax1-pmin1)))\n",
    "    c = int(np.floor(1 + (B-1)*(p[0][i][1] - pmin2)/(pmax2-pmin2)))\n",
    " \n",
    "    ### Need to fix ###\n",
    "    if r >= 25:\n",
    "        r = 24\n",
    "    elif c >= 25:\n",
    "        c = 24\n",
    "\n",
    "    H1[r][c] += 1\n",
    "        \n",
    "for i in range(len(p[1])):\n",
    "    r = int(np.floor(B*(p[1][i][0] - pmin1)/(pmax1-pmin1)))\n",
    "    c = int(np.floor(B*(p[1][i][1] - pmin2)/(pmax2-pmin2)))\n",
    "    H2[r][c] += 1            \n",
    "\n",
    "showimage(H1, size=25)\n",
    "showimage(H2, size=25)"
   ]
  },
  {
   "cell_type": "code",
   "execution_count": 66,
   "metadata": {
    "collapsed": true
   },
   "outputs": [],
   "source": [
    "def histo_classifier(p, H1, H2, pmin1, pmin2, pmax1, pmax2):\n",
    "    r = int(np.floor(1 + (B-1)*(p[0] - pmin1)/(pmax1-pmin1)))\n",
    "    c = int(np.floor(1 + (B-1)*(p[0] - pmin2)/(pmax2-pmin2)))\n",
    " \n",
    "    H1rc = H1[r,c]\n",
    "    H2rc = H2[r,c]\n",
    "    \n",
    "    if H1rc + H2rc == 0:\n",
    "        return 0 #\"Undecidable, need more data\"\n",
    "    else:\n",
    "        if H1rc/(H1rc + H2rc) > H2rc/(H1rc+H2rc):\n",
    "            return (9, H1rc/(H1rc+H2rc))\n",
    "        elif H1rc/(H1rc + H2rc) < H2rc/(H1rc+H2rc):\n",
    "            return (1, H2rc/(H1rc+H2rc))\n",
    "        elif H1rc/(H1rc + H2rc) == H2rc/(H1rc+H2rc):\n",
    "            return 0 #\"Undecidable, 50-50\""
   ]
  },
  {
   "cell_type": "code",
   "execution_count": 99,
   "metadata": {
    "collapsed": true
   },
   "outputs": [],
   "source": [
    "def Bayes_classifier(p, miu, c, totals):\n",
    "\n",
    "    q1 = totals[0]/np.sqrt(np.linalg.det(c[0])) * np.exp(-0.5 * np.dot((p-miu[0]), np.linalg.inv(c[0])).dot((p-miu[0]).T))\n",
    "    q2 = totals[1]/np.sqrt(np.linalg.det(c[1])) * np.exp(-0.5 * np.dot((p-miu[1]), np.linalg.inv(c[1])).dot((p-miu[1]).T))\n",
    "\n",
    "    Q1 = q1/(q1+q2)\n",
    "    Q2 = q2/(q1+q2)\n",
    "\n",
    "    if q1+q2 == 0:\n",
    "        return 0 #\"Undecidable, not enough data\"\n",
    "    elif q1 > q2:\n",
    "        return (9, Q1)\n",
    "    elif q1 < q2:\n",
    "        return (1, Q2)\n",
    "    elif q2 == q1:\n",
    "        return 0 #\"Undecidable, 50-50\""
   ]
  },
  {
   "cell_type": "code",
   "execution_count": 13,
   "metadata": {
    "collapsed": false
   },
   "outputs": [],
   "source": [
    "#write results to Excel file\n",
    "\n",
    "rw.writeExcelData([n_p, n_n], \"Assignment_3_ Submission_Template.xlsx\", \"Results\", 6, 2)\n",
    "rw.writeExcelData([miu_p, miu_n], \"Assignment_3_ Submission_Template.xlsx\", \"Results\", 9, 2)\n",
    "rw.writeExcelData([ [pmin1, pmax1], [pmin2, pmax2] ], \"Assignment_3_ Submission_Template.xlsx\", \"Results\", 17, 2)\n",
    "rw.writeExcelData(H1, \"Assignment_3_ Submission_Template.xlsx\", \"Results\", 20, 2)\n",
    "rw.writeExcelData(H2, \"Assignment_3_ Submission_Template.xlsx\", \"Results\", 46, 2)\n",
    "rw.writeExcelData(c_pca[0], \"Assignment_3_ Submission_Template.xlsx\", \"Results\", 12, 2)\n",
    "rw.writeExcelData(c_pca[1], \"Assignment_3_ Submission_Template.xlsx\", \"Results\", 14, 2)"
   ]
  },
  {
   "cell_type": "markdown",
   "metadata": {},
   "source": [
    "Exhibit any one representative positive feature vector xp and the corresponding mean-subtracted vector (zp), 2D representation (pp), reconstructed mean-subtracted vector (rp), and reconstructed mean-adjusted vector (xrecp). Do the same for any one representative negative feature vector xn."
   ]
  },
  {
   "cell_type": "code",
   "execution_count": 14,
   "metadata": {
    "collapsed": false
   },
   "outputs": [
    {
     "data": {
      "image/png": "[encoded data removed]",
      "text/plain": [
       "<matplotlib.figure.Figure at 0x12874390>"
      ]
     },
     "metadata": {},
     "output_type": "display_data"
    },
    {
     "data": {
      "image/png": "[encoded data removed]",
      "text/plain": [
       "<matplotlib.figure.Figure at 0x128a7160>"
      ]
     },
     "metadata": {},
     "output_type": "display_data"
    }
   ],
   "source": [
    "xp = nines[620]\n",
    "showimage(xp)\n",
    "\n",
    "zp = xp - X_miu\n",
    "\n",
    "pp = np.dot(zp, V_new.T)\n",
    "\n",
    "rp = np.dot(pp, V_new)\n",
    "\n",
    "xrecp = rp + X_miu\n",
    "\n",
    "showimage(xrecp)"
   ]
  },
  {
   "cell_type": "code",
   "execution_count": 15,
   "metadata": {
    "collapsed": false,
    "scrolled": true
   },
   "outputs": [
    {
     "data": {
      "image/png": "[encoded data removed]",
      "text/plain": [
       "<matplotlib.figure.Figure at 0x12893ef0>"
      ]
     },
     "metadata": {},
     "output_type": "display_data"
    },
    {
     "data": {
      "image/png": "[encoded data removed]",
      "text/plain": [
       "<matplotlib.figure.Figure at 0x12876cc0>"
      ]
     },
     "metadata": {},
     "output_type": "display_data"
    }
   ],
   "source": [
    "xn = ones[620]\n",
    "showimage(xn)\n",
    "\n",
    "zn = xn - X_miu\n",
    "\n",
    "pn = np.dot(zn, V_new.T)\n",
    "\n",
    "rn = np.dot(pn, V_new)\n",
    "\n",
    "xrecn = rn + X_miu\n",
    "\n",
    "showimage(xrecn)"
   ]
  },
  {
   "cell_type": "markdown",
   "metadata": {},
   "source": [
    "Run xp and xn through both the classifiers and record the results (e.g. what is xp recognized as? With what probability? See the Excel sheet to understand how to report the results.)"
   ]
  },
  {
   "cell_type": "code",
   "execution_count": 100,
   "metadata": {
    "collapsed": false
   },
   "outputs": [
    {
     "name": "stdout",
     "output_type": "stream",
     "text": [
      "Histogram results:\n",
      "pp:\n",
      "(1, 0.9642857142857143)\n",
      "pn:\n",
      "(9, 1.0)\n",
      "\n",
      "Bayes results:\n",
      "pp:\n",
      "(1, 0.5810357126865443)\n",
      "pn:\n",
      "(9, 0.52637785808901483)\n"
     ]
    }
   ],
   "source": [
    "print(\"Histogram results:\")\n",
    "print(\"pp:\")\n",
    "print(histo_classifier(pp, H1, H2, pmin1, pmin2, pmax1, pmax2))\n",
    "\n",
    "print(\"pn:\")\n",
    "print(histo_classifier(pn, H1, H2, pmin1, pmin2, pmax1, pmax2))\n",
    "\n",
    "print(\"\\nBayes results:\")\n",
    "print(\"pp:\")\n",
    "print(Bayes_classifier(pp, [miu_p, miu_n], c_pca, [n_p, n_n]))\n",
    "\n",
    "print(\"pn:\")\n",
    "print(Bayes_classifier(pn, [miu_p, miu_n], c_pca, [n_p, n_n]))"
   ]
  },
  {
   "cell_type": "code",
   "execution_count": 17,
   "metadata": {
    "collapsed": false
   },
   "outputs": [],
   "source": [
    "#Write results to Excel\n",
    "\n",
    "rw.writeExcelData(pd.DataFrame(xp).T, \"Assignment_3_ Submission_Template.xlsx\", \"Results\", 74, 2)\n",
    "rw.writeExcelData(pd.DataFrame(zp).T, \"Assignment_3_ Submission_Template.xlsx\", \"Results\", 75, 2)\n",
    "rw.writeExcelData(pd.DataFrame(pp).T, \"Assignment_3_ Submission_Template.xlsx\", \"Results\", 76, 2)\n",
    "rw.writeExcelData(pd.DataFrame(rp).T, \"Assignment_3_ Submission_Template.xlsx\", \"Results\", 77, 2)\n",
    "rw.writeExcelData(pd.DataFrame(xrecp).T, \"Assignment_3_ Submission_Template.xlsx\", \"Results\", 78, 2)\n",
    "\n",
    "rw.writeExcelData(pd.DataFrame(xn).T, \"Assignment_3_ Submission_Template.xlsx\", \"Results\", 80, 2)\n",
    "rw.writeExcelData(pd.DataFrame(zn).T, \"Assignment_3_ Submission_Template.xlsx\", \"Results\", 81, 2)\n",
    "rw.writeExcelData(pd.DataFrame(pn).T, \"Assignment_3_ Submission_Template.xlsx\", \"Results\", 82, 2)\n",
    "rw.writeExcelData(pd.DataFrame(rn).T, \"Assignment_3_ Submission_Template.xlsx\", \"Results\", 83, 2)\n",
    "rw.writeExcelData(pd.DataFrame(xrecn).T, \"Assignment_3_ Submission_Template.xlsx\", \"Results\", 84, 2)\n",
    "\n",
    "rw.writeExcelData(pd.DataFrame([9]), \"Assignment_3_ Submission_Template.xlsx\", \"Results\", 88, 2)\n",
    "rw.writeExcelData(pd.DataFrame([9]), \"Assignment_3_ Submission_Template.xlsx\", \"Results\", 89, 2)\n",
    "rw.writeExcelData(pd.DataFrame([9]), \"Assignment_3_ Submission_Template.xlsx\", \"Results\", 90, 2)\n",
    "\n",
    "rw.writeExcelData(pd.DataFrame([1]), \"Assignment_3_ Submission_Template.xlsx\", \"Results\", 92, 2)\n",
    "rw.writeExcelData(pd.DataFrame([1]), \"Assignment_3_ Submission_Template.xlsx\", \"Results\", 93, 2)\n",
    "rw.writeExcelData(pd.DataFrame([1]), \"Assignment_3_ Submission_Template.xlsx\", \"Results\", 94, 2)\n",
    "\n",
    "d, p = histo_classifier(pp, H1, H2, pmin1, pmin2, pmax1, pmax2)\n",
    "rw.writeExcelData(pd.DataFrame([p]), \"Assignment_3_ Submission_Template.xlsx\", \"Results\", 89, 3)\n",
    "\n",
    "d, p = Bayes_classifier(pp, [miu_p, miu_n], c_pca, [n_p, n_n])\n",
    "rw.writeExcelData(pd.DataFrame([p]), \"Assignment_3_ Submission_Template.xlsx\", \"Results\", 90, 3)\n",
    "\n",
    "d, p = histo_classifier(pn, H1, H2, pmin1, pmin2, pmax1, pmax2)\n",
    "rw.writeExcelData(pd.DataFrame([p]), \"Assignment_3_ Submission_Template.xlsx\", \"Results\", 93, 3)\n",
    "\n",
    "d, p = Bayes_classifier(pn, [miu_p, miu_n], c_pca, [n_p, n_n])\n",
    "rw.writeExcelData(pd.DataFrame([p]), \"Assignment_3_ Submission_Template.xlsx\", \"Results\", 94, 3)"
   ]
  },
  {
   "cell_type": "markdown",
   "metadata": {},
   "source": [
    "Evaluate the training accuracy of your two classifiers (2D histogram and Bayesian) and record the results."
   ]
  },
  {
   "cell_type": "code",
   "execution_count": 105,
   "metadata": {
    "collapsed": false
   },
   "outputs": [
    {
     "name": "stdout",
     "output_type": "stream",
     "text": [
      "      0     1\n",
      "0  3574  1959\n",
      "1  2593  1569\n",
      "      0     1\n",
      "0   133  5816\n",
      "1  2902  3840\n"
     ]
    }
   ],
   "source": [
    "# Accuracy = (TP + TN) / TP + FN + FP + TN\n",
    "# Run through the training set and determine what is the class label output\n",
    "# Compare output with actual class label\n",
    "# Determine TP, TN, FN, FP, values (DataFrame)\n",
    "# Determine accuracy\n",
    "\n",
    "# Empty array to capture values\n",
    "# Ground Truth     Positive       Negative    -> Output Class label\n",
    "# Positive         TP             FN\n",
    "# Negative         FP             TN\n",
    "\n",
    "# Setup confusion matrices\n",
    "\n",
    "acc_histo = pd.DataFrame(np.zeros((2,2), dtype=int))\n",
    "acc_bayes = acc_histo.copy()\n",
    "\n",
    "for i in range(len(P)):\n",
    "    try:\n",
    "        d, p = histo_classifier(P[i], H1, H2, pmin1, pmin2, pmax1, pmax2)\n",
    "                \n",
    "        if labels[i][0] == 9:\n",
    "            if d == 9: # True Positive\n",
    "                acc_histo.loc[0,0] += 1\n",
    "            elif d == 1: #False Negative\n",
    "                acc_histo.loc[0,1] += 1\n",
    "        elif labels[i][0] == 1:\n",
    "            if d == 1: # True Negative\n",
    "                acc_histo.loc[1,1] += 1\n",
    "            elif d == 9: # False Positive\n",
    "                acc_histo.loc[1,0] += 1\n",
    "                \n",
    "    except:\n",
    "        pass\n",
    "            \n",
    "    try:\n",
    "        d, p = Bayes_classifier(P[i], [miu_p, miu_n], c_pca, [n_p, n_n])\n",
    "                    \n",
    "        if labels[i][0] == 9:\n",
    "            if d == 9: # True Positive\n",
    "                acc_bayes.loc[0,0] += 1\n",
    "            elif d == 1: #False Negative\n",
    "                acc_bayes.loc[0,1] += 1\n",
    "        elif labels[i][0] == 1:\n",
    "            if d == 1: # True Negative\n",
    "                acc_bayes.loc[1,1] += 1\n",
    "            elif d == 9: # False Positive\n",
    "                acc_bayes.loc[1,0] += 1\n",
    "    except:\n",
    "        pass\n",
    "\n",
    "print (acc_histo)\n",
    "print (acc_bayes)"
   ]
  },
  {
   "cell_type": "code",
   "execution_count": 106,
   "metadata": {
    "collapsed": false
   },
   "outputs": [
    {
     "name": "stdout",
     "output_type": "stream",
     "text": [
      "Histogram Accuracy:53.0%\n",
      "Bayes Accuracy:31.3%\n"
     ]
    }
   ],
   "source": [
    "# Accuracy = (TP + TN) / TP + FN + FP + TN\n",
    "\n",
    "# Ground Truth     Positive       Negative    -> Output Class label\n",
    "# Positive         TP             FN\n",
    "# Negative         FP             TN\n",
    "\n",
    "histo_acc = round((acc_histo.loc[0,0] + acc_histo.loc[1,1])/ acc_histo.sum().sum(), 3) *100\n",
    "print(\"Histogram Accuracy:\" + str(histo_acc) + '%')\n",
    "\n",
    "bayes_acc = round((acc_bayes.loc[0,0] + acc_bayes.loc[1,1])/ acc_bayes.sum().sum(), 3) *100\n",
    "print(\"Bayes Accuracy:\" + str(bayes_acc) + '%')"
   ]
  },
  {
   "cell_type": "code",
   "execution_count": 110,
   "metadata": {
    "collapsed": false
   },
   "outputs": [],
   "source": [
    "#Write accuracy results to Excel\n",
    "\n",
    "rw.writeExcelData(pd.DataFrame([histo_acc, bayes_acc]), \"Assignment_3_ Submission_Template.xlsx\", \"Results\", 97, 2)"
   ]
  },
  {
   "cell_type": "markdown",
   "metadata": {},
   "source": [
    "Note: The helpful document PCA_Simple_Example.html has been provided for guidance in implementing the XZCVPR process. Also see the slide titled \"How do I ace Assignment 3?\"\n",
    "\n",
    "Digits: 1 (negative), 9 (positive)"
   ]
  }
 ],
 "metadata": {
  "anaconda-cloud": {},
  "kernelspec": {
   "display_name": "Python [conda root]",
   "language": "python",
   "name": "conda-root-py"
  },
  "language_info": {
   "codemirror_mode": {
    "name": "ipython",
    "version": 3
   },
   "file_extension": ".py",
   "mimetype": "text/x-python",
   "name": "python",
   "nbconvert_exporter": "python",
   "pygments_lexer": "ipython3",
   "version": "3.5.2"
  }
 },
 "nbformat": 4,
 "nbformat_minor": 1
}
