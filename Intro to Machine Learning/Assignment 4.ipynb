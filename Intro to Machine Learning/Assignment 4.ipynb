{
 "cells": [
  {
   "cell_type": "markdown",
   "metadata": {},
   "source": [
    "Import training data provided in Assignment_4_Data_and_Template.xlsx"
   ]
  },
  {
   "cell_type": "code",
   "execution_count": 24,
   "metadata": {
    "collapsed": false
   },
   "outputs": [],
   "source": [
    "import pandas as pd\n",
    "Training_Data = pd.read_excel(\"Assignment_4_Data_and_Template.xlsx\", sheetname=\"Training Data\")\n",
    "Training_Data.rename(columns={\"Unnamed: 7\": \"Flow2\", \"Unnamed: 8\" :\"Flow3\"}, inplace=True)\n",
    "Training_Data.rename(columns={\"Unnamed: 10\": \"Nitrogen2\", \"Unnamed: 11\" :\"Nitrogen3\"}, inplace=True)\n",
    "Training_Data.rename(columns={\"Unnamed: 13\": \"Freq2\", \"Unnamed: 14\" :\"Freq3\"}, inplace=True)\n",
    "\n",
    "Failure = pd.DataFrame(Training_Data['Failure'])\n",
    "FType = pd.DataFrame(Training_Data['Type'])\n",
    "del Training_Data['Failure']\n",
    "del Training_Data['Type']"
   ]
  },
  {
   "cell_type": "markdown",
   "metadata": {},
   "source": [
    "Transforming FType to Kessler's Construction\n",
    "Failure Type 1 = 1,0,0,0,0,0 etc..."
   ]
  },
  {
   "cell_type": "code",
   "execution_count": 103,
   "metadata": {
    "collapsed": false
   },
   "outputs": [],
   "source": [
    "import numpy as np\n",
    "Type = pd.DataFrame()\n",
    "\n",
    "for index,row in FType.iterrows():\n",
    "    temp = np.ones(6,dtype=int) * -1\n",
    "    temp[row['Type']-1] = 1\n",
    "    \n",
    "    Type[index] = temp\n",
    "\n",
    "Type = Type.T"
   ]
  },
  {
   "cell_type": "markdown",
   "metadata": {},
   "source": [
    "Use the training data to build two linear classifiers: (i) a binary classifier, and (ii) a multiclass classifier capable of distinguishing between 6 classes. The sheet titled \"Training Data\" contains the target class labels (Failure and Type). Use the pseudoinverse method of building linear classifiers. Paste your classifiers in the correct format as shown in the sheet titled \"Classifiers\""
   ]
  },
  {
   "cell_type": "code",
   "execution_count": 105,
   "metadata": {
    "collapsed": false
   },
   "outputs": [
    {
     "ename": "ValueError",
     "evalue": "cannot insert Xa, already exists",
     "output_type": "error",
     "traceback": [
      "\u001b[0;31m---------------------------------------------------------------------------\u001b[0m",
      "\u001b[0;31mValueError\u001b[0m                                Traceback (most recent call last)",
      "\u001b[0;32m<ipython-input-105-8862676336f4>\u001b[0m in \u001b[0;36m<module>\u001b[0;34m()\u001b[0m\n\u001b[0;32m----> 1\u001b[0;31m \u001b[0mTraining_Data\u001b[0m\u001b[1;33m.\u001b[0m\u001b[0minsert\u001b[0m\u001b[1;33m(\u001b[0m\u001b[1;36m0\u001b[0m\u001b[1;33m,\u001b[0m \u001b[1;34m'Xa'\u001b[0m\u001b[1;33m,\u001b[0m \u001b[1;36m1\u001b[0m\u001b[1;33m)\u001b[0m\u001b[1;33m\u001b[0m\u001b[0m\n\u001b[0m",
      "\u001b[0;32mC:\\Users\\lye\\AppData\\Local\\Continuum\\Anaconda3\\lib\\site-packages\\pandas\\core\\frame.py\u001b[0m in \u001b[0;36minsert\u001b[0;34m(self, loc, column, value, allow_duplicates)\u001b[0m\n\u001b[1;32m   2447\u001b[0m         \u001b[0mvalue\u001b[0m \u001b[1;33m=\u001b[0m \u001b[0mself\u001b[0m\u001b[1;33m.\u001b[0m\u001b[0m_sanitize_column\u001b[0m\u001b[1;33m(\u001b[0m\u001b[0mcolumn\u001b[0m\u001b[1;33m,\u001b[0m \u001b[0mvalue\u001b[0m\u001b[1;33m)\u001b[0m\u001b[1;33m\u001b[0m\u001b[0m\n\u001b[1;32m   2448\u001b[0m         self._data.insert(loc, column, value,\n\u001b[0;32m-> 2449\u001b[0;31m                           allow_duplicates=allow_duplicates)\n\u001b[0m\u001b[1;32m   2450\u001b[0m \u001b[1;33m\u001b[0m\u001b[0m\n\u001b[1;32m   2451\u001b[0m     \u001b[1;32mdef\u001b[0m \u001b[0massign\u001b[0m\u001b[1;33m(\u001b[0m\u001b[0mself\u001b[0m\u001b[1;33m,\u001b[0m \u001b[1;33m**\u001b[0m\u001b[0mkwargs\u001b[0m\u001b[1;33m)\u001b[0m\u001b[1;33m:\u001b[0m\u001b[1;33m\u001b[0m\u001b[0m\n",
      "\u001b[0;32mC:\\Users\\lye\\AppData\\Local\\Continuum\\Anaconda3\\lib\\site-packages\\pandas\\core\\internals.py\u001b[0m in \u001b[0;36minsert\u001b[0;34m(self, loc, item, value, allow_duplicates)\u001b[0m\n\u001b[1;32m   3508\u001b[0m         \u001b[1;32mif\u001b[0m \u001b[1;32mnot\u001b[0m \u001b[0mallow_duplicates\u001b[0m \u001b[1;32mand\u001b[0m \u001b[0mitem\u001b[0m \u001b[1;32min\u001b[0m \u001b[0mself\u001b[0m\u001b[1;33m.\u001b[0m\u001b[0mitems\u001b[0m\u001b[1;33m:\u001b[0m\u001b[1;33m\u001b[0m\u001b[0m\n\u001b[1;32m   3509\u001b[0m             \u001b[1;31m# Should this be a different kind of error??\u001b[0m\u001b[1;33m\u001b[0m\u001b[1;33m\u001b[0m\u001b[0m\n\u001b[0;32m-> 3510\u001b[0;31m             \u001b[1;32mraise\u001b[0m \u001b[0mValueError\u001b[0m\u001b[1;33m(\u001b[0m\u001b[1;34m'cannot insert %s, already exists'\u001b[0m \u001b[1;33m%\u001b[0m \u001b[0mitem\u001b[0m\u001b[1;33m)\u001b[0m\u001b[1;33m\u001b[0m\u001b[0m\n\u001b[0m\u001b[1;32m   3511\u001b[0m \u001b[1;33m\u001b[0m\u001b[0m\n\u001b[1;32m   3512\u001b[0m         \u001b[1;32mif\u001b[0m \u001b[1;32mnot\u001b[0m \u001b[0misinstance\u001b[0m\u001b[1;33m(\u001b[0m\u001b[0mloc\u001b[0m\u001b[1;33m,\u001b[0m \u001b[0mint\u001b[0m\u001b[1;33m)\u001b[0m\u001b[1;33m:\u001b[0m\u001b[1;33m\u001b[0m\u001b[0m\n",
      "\u001b[0;31mValueError\u001b[0m: cannot insert Xa, already exists"
     ]
    }
   ],
   "source": [
    "Training_Data.insert(0, 'Xa', 1)"
   ]
  },
  {
   "cell_type": "code",
   "execution_count": 196,
   "metadata": {
    "collapsed": false
   },
   "outputs": [],
   "source": [
    "import numpy as np\n",
    "Xa = Training_Data.copy()\n",
    "\n",
    "W_Failure = pd.DataFrame(np.linalg.pinv(Xa).dot(Failure))\n",
    "\n",
    "W_Type = pd.DataFrame(np.linalg.pinv(Xa).dot(Type))"
   ]
  },
  {
   "cell_type": "code",
   "execution_count": 117,
   "metadata": {
    "collapsed": false
   },
   "outputs": [],
   "source": [
    "#Write Results to Excel\n",
    "\n",
    "import ReadWriteExcel as rw\n",
    "rw.writeExcelData(W_Failure, \"Assignment_4_Data_and_Template.xlsx\", \"Classifiers\", 5,1)\n",
    "rw.writeExcelData(W_Type, \"Assignment_4_Data_and_Template.xlsx\", \"Classifiers\", 5,5)"
   ]
  },
  {
   "cell_type": "markdown",
   "metadata": {},
   "source": [
    "Apply the classifiers to the data provided in the sheet \"To be classified.\" Paste the results into the sheet."
   ]
  },
  {
   "cell_type": "code",
   "execution_count": 118,
   "metadata": {
    "collapsed": false
   },
   "outputs": [],
   "source": [
    "ToClassify = pd.read_excel(\"Assignment_4_Data_and_Template.xlsx\", sheetname=\"To be classified\", skiprows=[0,1,2])\n",
    "\n",
    "ToClassify.rename(columns={\"Unnamed: 7\": \"Flow2\", \"Unnamed: 8\" :\"Flow3\"}, inplace=True)\n",
    "ToClassify.rename(columns={\"Unnamed: 10\": \"Nitrogen2\", \"Unnamed: 11\" :\"Nitrogen3\"}, inplace=True)\n",
    "ToClassify.rename(columns={\"Unnamed: 13\": \"Freq2\", \"Unnamed: 14\" :\"Freq3\"}, inplace=True)\n",
    "\n",
    "del ToClassify['Failure']\n",
    "del ToClassify['Type']"
   ]
  },
  {
   "cell_type": "code",
   "execution_count": 173,
   "metadata": {
    "collapsed": false
   },
   "outputs": [],
   "source": [
    "Failure_Output = []\n",
    "Type_Output = []\n",
    "\n",
    "for index,row in ToClassify.iterrows():\n",
    "    xa = [1]\n",
    "    xa.extend(row)\n",
    "\n",
    "    Failure_Output.append(np.sign(np.dot(xa, W_Failure)).astype(int))\n",
    "    Type_Output.append(np.dot(xa,W_Type))\n",
    "    \n",
    "Type_Out = []\n",
    "\n",
    "for row in Type_Output:\n",
    "    Type_Out.append(list(row).index(max(list(row)))+1)"
   ]
  },
  {
   "cell_type": "code",
   "execution_count": 172,
   "metadata": {
    "collapsed": false
   },
   "outputs": [],
   "source": [
    "#Write results to Excel\n",
    "\n",
    "import ReadWriteExcel as rw\n",
    "\n",
    "rw.writeExcelData(pd.DataFrame(Failure_Output), \"Assignment_4_Data_and_Template.xlsx\", \"To be classified\", 5, 16)\n",
    "rw.writeExcelData(pd.DataFrame(Type_Out), \"Assignment_4_Data_and_Template.xlsx\", \"To be classified\", 5,17)"
   ]
  },
  {
   "cell_type": "markdown",
   "metadata": {},
   "source": [
    "Evaluate the performance of your classifiers (using training data alone) using the metrics requested in the sheet \"Performance\"\n",
    "\n",
    "For guidance, see slides titled \"Step-by-step: Linear Classifier Design\" in the lecture on linear classifiers."
   ]
  },
  {
   "cell_type": "code",
   "execution_count": 180,
   "metadata": {
    "collapsed": false
   },
   "outputs": [],
   "source": [
    "#Evaluate Training Data\n",
    "\n",
    "TD_Fail_Out = []\n",
    "TD_Type_Output = []\n",
    "\n",
    "for index,row in Training_Data.iterrows():\n",
    "    \n",
    "    TD_Fail_Out.append(np.sign(np.dot(row, W_Failure)).astype(int))\n",
    "    TD_Type_Output.append(np.dot(row,W_Type))\n",
    "\n",
    "TD_Type_Out = []\n",
    "for row in TD_Type_Output:\n",
    "    TD_Type_Out.append(list(row).index(max(list(row)))+1)\n",
    "\n",
    "#print (pd.DataFrame(TD_Fail_Out))\n",
    "#print (pd.DataFrame(TD_Type_Out))"
   ]
  },
  {
   "cell_type": "code",
   "execution_count": 195,
   "metadata": {
    "collapsed": false
   },
   "outputs": [],
   "source": [
    "#Make Confusion Matrices\n",
    "\n",
    "CM_Fail = np.zeros((2,2))\n",
    "CM_Type = np.zeros((6,6))\n",
    "\n",
    "for i,r in Failure.iterrows():\n",
    "    if r[0] == -1:\n",
    "        if TD_Fail_Out[i] == -1:\n",
    "            CM_Fail[0][0] += 1\n",
    "        elif TD_Fail_Out[i] == 1:\n",
    "            CM_Fail[0][1] += 1\n",
    "    \n",
    "    elif r[0] == 1:\n",
    "        if TD_Fail_Out[i] == 1:\n",
    "            CM_Fail[1][1] += 1\n",
    "        elif TD_Fail_Out[i] == -1:\n",
    "            CM_Fail[1][0] += 1\n",
    "            \n",
    "for i, r in FType.iterrows():\n",
    "    CM_Type[r[0]-1][TD_Type_Out[i]-1] += 1\n",
    "    \n",
    "CM_Type = CM_Type.astype(int)"
   ]
  },
  {
   "cell_type": "code",
   "execution_count": 198,
   "metadata": {
    "collapsed": false
   },
   "outputs": [
    {
     "name": "stdout",
     "output_type": "stream",
     "text": [
      "Accuracy is 81.5%\n",
      "Sensitivity is 65.1515151515%\n",
      "Specificity is 97.8484848485%\n",
      "PPV is 96.803241783%\n"
     ]
    }
   ],
   "source": [
    "#Calculate accuracy, sensitivity, Specificity, PPV\n",
    "\n",
    "acc = (CM_Fail[0][0] + CM_Fail[1][1])/(np.sum(CM_Fail))\n",
    "sen = (CM_Fail[1][1])/(CM_Fail[1][1] + CM_Fail[1][0])\n",
    "spc = (CM_Fail[0][0])/(CM_Fail[0][0] + CM_Fail[0][1])\n",
    "ppv = (CM_Fail[1][1]) / (CM_Fail[1][1] + CM_Fail[0][1])\n",
    "\n",
    "print('Accuracy is ' + str(acc*100) + '%')\n",
    "print('Sensitivity is ' + str(sen*100) + '%')\n",
    "print('Specificity is ' + str(spc*100) + '%')\n",
    "print('PPV is ' + str(ppv*100) + '%')"
   ]
  },
  {
   "cell_type": "code",
   "execution_count": 206,
   "metadata": {
    "collapsed": false
   },
   "outputs": [],
   "source": [
    "# Calculate PPV for each of the classes\n",
    "\n",
    "sums = CM_Type.sum(axis=0)\n",
    "PPVs = []\n",
    "\n",
    "for i in range(len(sums)):\n",
    "    PPVs.append(CM_Type[i][i]/sums[i])"
   ]
  },
  {
   "cell_type": "code",
   "execution_count": 225,
   "metadata": {
    "collapsed": false
   },
   "outputs": [],
   "source": [
    "# Write results to Excel\n",
    "\n",
    "import ReadWriteExcel as rw\n",
    "\n",
    "rw.writeExcelData(pd.DataFrame(CM_Fail, dtype=int), \"Assignment_4_Data_and_Template.xlsx\", \"Performance\", 10,3)\n",
    "rw.writeExcelData(pd.DataFrame(CM_Type, dtype=int), \"Assignment_4_Data_and_Template.xlsx\", \"Performance\", 19,3)\n",
    "rw.writeExcelData(pd.DataFrame([acc, sen, spc, ppv]), \"Assignment_4_Data_and_Template.xlsx\", \"Performance\", 8,7)\n",
    "rw.writeExcelData(pd.DataFrame([[max(PPVs)*100, PPVs.index(max(PPVs))], [min(PPVs)*100, PPVs.index(min(PPVs))]]), \n",
    "                  \"Assignment_4_Data_and_Template.xlsx\", \"Performance\", 20,12)"
   ]
  }
 ],
 "metadata": {
  "anaconda-cloud": {},
  "kernelspec": {
   "display_name": "Python [conda root]",
   "language": "python",
   "name": "conda-root-py"
  },
  "language_info": {
   "codemirror_mode": {
    "name": "ipython",
    "version": 3
   },
   "file_extension": ".py",
   "mimetype": "text/x-python",
   "name": "python",
   "nbconvert_exporter": "python",
   "pygments_lexer": "ipython3",
   "version": "3.5.2"
  }
 },
 "nbformat": 4,
 "nbformat_minor": 1
}
