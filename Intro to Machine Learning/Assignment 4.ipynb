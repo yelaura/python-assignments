{
 "cells": [
  {
   "cell_type": "markdown",
   "metadata": {},
   "source": [
    "Import training data provided in Assignment_4_Data_and_Template.xlsx"
   ]
  },
  {
   "cell_type": "code",
   "execution_count": 17,
   "metadata": {
    "collapsed": false
   },
   "outputs": [],
   "source": [
    "import pandas as pd\n",
    "Training_Data = pd.read_excel(\"Assignment_4_Data_and_Template.xlsx\", sheetname=\"Training Data\")\n",
    "Training_Data.rename(columns={\"Unnamed: 7\": \"Flow2\", \"Unnamed: 8\" :\"Flow3\"}, inplace=True)\n",
    "Training_Data.rename(columns={\"Unnamed: 10\": \"Nitrogen2\", \"Unnamed: 11\" :\"Nitrogen3\"}, inplace=True)\n",
    "Training_Data.rename(columns={\"Unnamed: 13\": \"Freq2\", \"Unnamed: 14\" :\"Freq3\"}, inplace=True)\n",
    "\n",
    "Failure = pd.DataFrame(Training_Data['Failure'])\n",
    "FType = pd.DataFrame(Training_Data['Type'])\n",
    "\n",
    "Type_Raw = Training_Data['Type'].copy()\n",
    "del Training_Data['Failure']\n",
    "del Training_Data['Type']"
   ]
  },
  {
   "cell_type": "markdown",
   "metadata": {},
   "source": [
    "Transforming FType to Kessler's Construction\n",
    "Failure Type 1 = 1,-1,-1,-1,-1 etc..."
   ]
  },
  {
   "cell_type": "code",
   "execution_count": 18,
   "metadata": {
    "collapsed": false
   },
   "outputs": [],
   "source": [
    "import numpy as np\n",
    "Type = pd.DataFrame()\n",
    "\n",
    "for index,row in FType.iterrows():\n",
    "    temp = np.ones(6,dtype=int) * -1\n",
    "    temp[row['Type']-1] = 1\n",
    "    \n",
    "    Type[index] = temp\n",
    "\n",
    "Type = Type.T"
   ]
  },
  {
   "cell_type": "markdown",
   "metadata": {},
   "source": [
    "Use the training data to build two linear classifiers: (i) a binary classifier, and (ii) a multiclass classifier capable of distinguishing between 6 classes. The sheet titled \"Training Data\" contains the target class labels (Failure and Type). Use the pseudoinverse method of building linear classifiers. Paste your classifiers in the correct format as shown in the sheet titled \"Classifiers\""
   ]
  },
  {
   "cell_type": "code",
   "execution_count": 19,
   "metadata": {
    "collapsed": false
   },
   "outputs": [],
   "source": [
    "Training_Data.insert(0, 'Xa', 1)"
   ]
  },
  {
   "cell_type": "code",
   "execution_count": 20,
   "metadata": {
    "collapsed": false
   },
   "outputs": [],
   "source": [
    "import numpy as np\n",
    "Xa = Training_Data.copy()\n",
    "\n",
    "W_Failure = pd.DataFrame(np.linalg.pinv(Xa).dot(Failure))\n",
    "\n",
    "W_Type = pd.DataFrame(np.linalg.pinv(Xa).dot(Type))"
   ]
  },
  {
   "cell_type": "code",
   "execution_count": 7,
   "metadata": {
    "collapsed": false
   },
   "outputs": [
    {
     "ename": "PermissionError",
     "evalue": "[Errno 13] Permission denied: 'Assignment_4_Data_and_Template.xlsx'",
     "output_type": "error",
     "traceback": [
      "\u001b[0;31m---------------------------------------------------------------------------\u001b[0m",
      "\u001b[0;31mPermissionError\u001b[0m                           Traceback (most recent call last)",
      "\u001b[0;32m<ipython-input-7-1d7c0f5928bc>\u001b[0m in \u001b[0;36m<module>\u001b[0;34m()\u001b[0m\n\u001b[1;32m      2\u001b[0m \u001b[1;33m\u001b[0m\u001b[0m\n\u001b[1;32m      3\u001b[0m \u001b[1;32mimport\u001b[0m \u001b[0mReadWriteExcel\u001b[0m \u001b[1;32mas\u001b[0m \u001b[0mrw\u001b[0m\u001b[1;33m\u001b[0m\u001b[0m\n\u001b[0;32m----> 4\u001b[0;31m \u001b[0mrw\u001b[0m\u001b[1;33m.\u001b[0m\u001b[0mwriteExcelData\u001b[0m\u001b[1;33m(\u001b[0m\u001b[0mW_Failure\u001b[0m\u001b[1;33m,\u001b[0m \u001b[1;34m\"Assignment_4_Data_and_Template.xlsx\"\u001b[0m\u001b[1;33m,\u001b[0m \u001b[1;34m\"Classifiers\"\u001b[0m\u001b[1;33m,\u001b[0m \u001b[1;36m5\u001b[0m\u001b[1;33m,\u001b[0m\u001b[1;36m1\u001b[0m\u001b[1;33m)\u001b[0m\u001b[1;33m\u001b[0m\u001b[0m\n\u001b[0m\u001b[1;32m      5\u001b[0m \u001b[0mrw\u001b[0m\u001b[1;33m.\u001b[0m\u001b[0mwriteExcelData\u001b[0m\u001b[1;33m(\u001b[0m\u001b[0mW_Type\u001b[0m\u001b[1;33m,\u001b[0m \u001b[1;34m\"Assignment_4_Data_and_Template.xlsx\"\u001b[0m\u001b[1;33m,\u001b[0m \u001b[1;34m\"Classifiers\"\u001b[0m\u001b[1;33m,\u001b[0m \u001b[1;36m5\u001b[0m\u001b[1;33m,\u001b[0m\u001b[1;36m5\u001b[0m\u001b[1;33m)\u001b[0m\u001b[1;33m\u001b[0m\u001b[0m\n",
      "\u001b[0;32mC:\\Users\\lye\\OneDrive\\Documents\\GitHub\\python-assignments\\Intro to Machine Learning\\ReadWriteExcel.py\u001b[0m in \u001b[0;36mwriteExcelData\u001b[0;34m(x, excelfile, sheetname, startrow, startcol)\u001b[0m\n\u001b[1;32m     61\u001b[0m     \u001b[0mwriter\u001b[0m\u001b[1;33m.\u001b[0m\u001b[0msheets\u001b[0m \u001b[1;33m=\u001b[0m \u001b[0mdict\u001b[0m\u001b[1;33m(\u001b[0m\u001b[1;33m(\u001b[0m\u001b[0mws\u001b[0m\u001b[1;33m.\u001b[0m\u001b[0mtitle\u001b[0m\u001b[1;33m,\u001b[0m \u001b[0mws\u001b[0m\u001b[1;33m)\u001b[0m \u001b[1;32mfor\u001b[0m \u001b[0mws\u001b[0m \u001b[1;32min\u001b[0m \u001b[0mbook\u001b[0m\u001b[1;33m.\u001b[0m\u001b[0mworksheets\u001b[0m\u001b[1;33m)\u001b[0m\u001b[1;33m\u001b[0m\u001b[0m\n\u001b[1;32m     62\u001b[0m     \u001b[0mdf\u001b[0m\u001b[1;33m.\u001b[0m\u001b[0mto_excel\u001b[0m\u001b[1;33m(\u001b[0m\u001b[0mwriter\u001b[0m\u001b[1;33m,\u001b[0m \u001b[0msheet_name\u001b[0m\u001b[1;33m=\u001b[0m\u001b[0msheetname\u001b[0m\u001b[1;33m,\u001b[0m\u001b[0mstartrow\u001b[0m\u001b[1;33m=\u001b[0m\u001b[0mstartrow\u001b[0m\u001b[1;33m-\u001b[0m\u001b[1;36m1\u001b[0m\u001b[1;33m,\u001b[0m \u001b[0mstartcol\u001b[0m\u001b[1;33m=\u001b[0m\u001b[0mstartcol\u001b[0m\u001b[1;33m-\u001b[0m\u001b[1;36m1\u001b[0m\u001b[1;33m,\u001b[0m \u001b[0mheader\u001b[0m\u001b[1;33m=\u001b[0m\u001b[1;32mFalse\u001b[0m\u001b[1;33m,\u001b[0m \u001b[0mindex\u001b[0m\u001b[1;33m=\u001b[0m\u001b[1;32mFalse\u001b[0m\u001b[1;33m)\u001b[0m\u001b[1;33m\u001b[0m\u001b[0m\n\u001b[0;32m---> 63\u001b[0;31m     \u001b[0mwriter\u001b[0m\u001b[1;33m.\u001b[0m\u001b[0msave\u001b[0m\u001b[1;33m(\u001b[0m\u001b[1;33m)\u001b[0m\u001b[1;33m\u001b[0m\u001b[0m\n\u001b[0m\u001b[1;32m     64\u001b[0m     \u001b[0mwriter\u001b[0m\u001b[1;33m.\u001b[0m\u001b[0mclose\u001b[0m\u001b[1;33m(\u001b[0m\u001b[1;33m)\u001b[0m\u001b[1;33m\u001b[0m\u001b[0m\n\u001b[1;32m     65\u001b[0m \u001b[1;33m\u001b[0m\u001b[0m\n",
      "\u001b[0;32mC:\\Users\\lye\\Anaconda3\\lib\\site-packages\\pandas\\io\\excel.py\u001b[0m in \u001b[0;36msave\u001b[0;34m(self)\u001b[0m\n\u001b[1;32m    819\u001b[0m         \u001b[0mSave\u001b[0m \u001b[0mworkbook\u001b[0m \u001b[0mto\u001b[0m \u001b[0mdisk\u001b[0m\u001b[1;33m.\u001b[0m\u001b[1;33m\u001b[0m\u001b[0m\n\u001b[1;32m    820\u001b[0m         \"\"\"\n\u001b[0;32m--> 821\u001b[0;31m         \u001b[1;32mreturn\u001b[0m \u001b[0mself\u001b[0m\u001b[1;33m.\u001b[0m\u001b[0mbook\u001b[0m\u001b[1;33m.\u001b[0m\u001b[0msave\u001b[0m\u001b[1;33m(\u001b[0m\u001b[0mself\u001b[0m\u001b[1;33m.\u001b[0m\u001b[0mpath\u001b[0m\u001b[1;33m)\u001b[0m\u001b[1;33m\u001b[0m\u001b[0m\n\u001b[0m\u001b[1;32m    822\u001b[0m \u001b[1;33m\u001b[0m\u001b[0m\n\u001b[1;32m    823\u001b[0m     def write_cells(self, cells, sheet_name=None, startrow=0, startcol=0,\n",
      "\u001b[0;32mC:\\Users\\lye\\Anaconda3\\lib\\site-packages\\openpyxl\\workbook\\workbook.py\u001b[0m in \u001b[0;36msave\u001b[0;34m(self, filename)\u001b[0m\n\u001b[1;32m    337\u001b[0m             \u001b[0msave_dump\u001b[0m\u001b[1;33m(\u001b[0m\u001b[0mself\u001b[0m\u001b[1;33m,\u001b[0m \u001b[0mfilename\u001b[0m\u001b[1;33m)\u001b[0m\u001b[1;33m\u001b[0m\u001b[0m\n\u001b[1;32m    338\u001b[0m         \u001b[1;32melse\u001b[0m\u001b[1;33m:\u001b[0m\u001b[1;33m\u001b[0m\u001b[0m\n\u001b[0;32m--> 339\u001b[0;31m             \u001b[0msave_workbook\u001b[0m\u001b[1;33m(\u001b[0m\u001b[0mself\u001b[0m\u001b[1;33m,\u001b[0m \u001b[0mfilename\u001b[0m\u001b[1;33m)\u001b[0m\u001b[1;33m\u001b[0m\u001b[0m\n\u001b[0m\u001b[1;32m    340\u001b[0m \u001b[1;33m\u001b[0m\u001b[0m\n\u001b[1;32m    341\u001b[0m \u001b[1;33m\u001b[0m\u001b[0m\n",
      "\u001b[0;32mC:\\Users\\lye\\Anaconda3\\lib\\site-packages\\openpyxl\\writer\\excel.py\u001b[0m in \u001b[0;36msave_workbook\u001b[0;34m(workbook, filename)\u001b[0m\n\u001b[1;32m    264\u001b[0m \u001b[1;33m\u001b[0m\u001b[0m\n\u001b[1;32m    265\u001b[0m     \"\"\"\n\u001b[0;32m--> 266\u001b[0;31m     \u001b[0marchive\u001b[0m \u001b[1;33m=\u001b[0m \u001b[0mZipFile\u001b[0m\u001b[1;33m(\u001b[0m\u001b[0mfilename\u001b[0m\u001b[1;33m,\u001b[0m \u001b[1;34m'w'\u001b[0m\u001b[1;33m,\u001b[0m \u001b[0mZIP_DEFLATED\u001b[0m\u001b[1;33m,\u001b[0m \u001b[0mallowZip64\u001b[0m\u001b[1;33m=\u001b[0m\u001b[1;32mTrue\u001b[0m\u001b[1;33m)\u001b[0m\u001b[1;33m\u001b[0m\u001b[0m\n\u001b[0m\u001b[1;32m    267\u001b[0m     \u001b[0mwriter\u001b[0m \u001b[1;33m=\u001b[0m \u001b[0mExcelWriter\u001b[0m\u001b[1;33m(\u001b[0m\u001b[0mworkbook\u001b[0m\u001b[1;33m,\u001b[0m \u001b[0marchive\u001b[0m\u001b[1;33m)\u001b[0m\u001b[1;33m\u001b[0m\u001b[0m\n\u001b[1;32m    268\u001b[0m     \u001b[0mwriter\u001b[0m\u001b[1;33m.\u001b[0m\u001b[0msave\u001b[0m\u001b[1;33m(\u001b[0m\u001b[0mfilename\u001b[0m\u001b[1;33m)\u001b[0m\u001b[1;33m\u001b[0m\u001b[0m\n",
      "\u001b[0;32mC:\\Users\\lye\\Anaconda3\\lib\\zipfile.py\u001b[0m in \u001b[0;36m__init__\u001b[0;34m(self, file, mode, compression, allowZip64)\u001b[0m\n\u001b[1;32m   1080\u001b[0m             \u001b[1;32mwhile\u001b[0m \u001b[1;32mTrue\u001b[0m\u001b[1;33m:\u001b[0m\u001b[1;33m\u001b[0m\u001b[0m\n\u001b[1;32m   1081\u001b[0m                 \u001b[1;32mtry\u001b[0m\u001b[1;33m:\u001b[0m\u001b[1;33m\u001b[0m\u001b[0m\n\u001b[0;32m-> 1082\u001b[0;31m                     \u001b[0mself\u001b[0m\u001b[1;33m.\u001b[0m\u001b[0mfp\u001b[0m \u001b[1;33m=\u001b[0m \u001b[0mio\u001b[0m\u001b[1;33m.\u001b[0m\u001b[0mopen\u001b[0m\u001b[1;33m(\u001b[0m\u001b[0mfile\u001b[0m\u001b[1;33m,\u001b[0m \u001b[0mfilemode\u001b[0m\u001b[1;33m)\u001b[0m\u001b[1;33m\u001b[0m\u001b[0m\n\u001b[0m\u001b[1;32m   1083\u001b[0m                 \u001b[1;32mexcept\u001b[0m \u001b[0mOSError\u001b[0m\u001b[1;33m:\u001b[0m\u001b[1;33m\u001b[0m\u001b[0m\n\u001b[1;32m   1084\u001b[0m                     \u001b[1;32mif\u001b[0m \u001b[0mfilemode\u001b[0m \u001b[1;32min\u001b[0m \u001b[0mmodeDict\u001b[0m\u001b[1;33m:\u001b[0m\u001b[1;33m\u001b[0m\u001b[0m\n",
      "\u001b[0;31mPermissionError\u001b[0m: [Errno 13] Permission denied: 'Assignment_4_Data_and_Template.xlsx'"
     ]
    }
   ],
   "source": [
    "#Write Results to Excel\n",
    "\n",
    "import ReadWriteExcel as rw\n",
    "rw.writeExcelData(W_Failure, \"Assignment_4_Data_and_Template.xlsx\", \"Classifiers\", 5,1)\n",
    "rw.writeExcelData(W_Type, \"Assignment_4_Data_and_Template.xlsx\", \"Classifiers\", 5,5)"
   ]
  },
  {
   "cell_type": "code",
   "execution_count": 22,
   "metadata": {
    "collapsed": false
   },
   "outputs": [
    {
     "name": "stdout",
     "output_type": "stream",
     "text": [
      "[4, 6, 2, 1, 4, 6, 1, 2, 1, 4]\n",
      "0    4\n",
      "1    0\n",
      "2    2\n",
      "3    3\n",
      "4    4\n",
      "5    0\n",
      "6    3\n",
      "7    2\n",
      "8    5\n",
      "9    4\n",
      "Name: Type, dtype: int64\n"
     ]
    }
   ],
   "source": [
    "# Test the classifier on the training data\n",
    "Train_Out = []\n",
    "\n",
    "for index,row in Training_Data.iterrows():\n",
    "    Train_Out.append(np.dot(row,W_Type))\n",
    "    \n",
    "Train_Output = []\n",
    "for row in Train_Out:\n",
    "    Train_Output.append(list(row).index(max(list(row)))+1)\n",
    "    \n",
    "print(Train_Output[0:10])\n",
    "print(Type_Raw[0:10])"
   ]
  },
  {
   "cell_type": "markdown",
   "metadata": {},
   "source": [
    "Apply the classifiers to the data provided in the sheet \"To be classified.\" Paste the results into the sheet."
   ]
  },
  {
   "cell_type": "code",
   "execution_count": 7,
   "metadata": {
    "collapsed": false
   },
   "outputs": [],
   "source": [
    "ToClassify = pd.read_excel(\"Assignment_4_Data_and_Template.xlsx\", sheetname=\"To be classified\", skiprows=[0,1,2])\n",
    "\n",
    "ToClassify.rename(columns={\"Unnamed: 7\": \"Flow2\", \"Unnamed: 8\" :\"Flow3\"}, inplace=True)\n",
    "ToClassify.rename(columns={\"Unnamed: 10\": \"Nitrogen2\", \"Unnamed: 11\" :\"Nitrogen3\"}, inplace=True)\n",
    "ToClassify.rename(columns={\"Unnamed: 13\": \"Freq2\", \"Unnamed: 14\" :\"Freq3\"}, inplace=True)\n",
    "\n",
    "del ToClassify['Failure']\n",
    "del ToClassify['Type']"
   ]
  },
  {
   "cell_type": "code",
   "execution_count": 8,
   "metadata": {
    "collapsed": false
   },
   "outputs": [],
   "source": [
    "Failure_Output = []\n",
    "Type_Output = []\n",
    "\n",
    "for index,row in ToClassify.iterrows():\n",
    "    xa = [1]\n",
    "    xa.extend(row)\n",
    "\n",
    "    Failure_Output.append(np.sign(np.dot(xa, W_Failure)).astype(int))\n",
    "    Type_Output.append(np.dot(xa,W_Type))\n",
    "    \n",
    "Type_Out = []\n",
    "\n",
    "for row in Type_Output:\n",
    "    Type_Out.append(list(row).index(max(list(row)))+1)"
   ]
  },
  {
   "cell_type": "code",
   "execution_count": 21,
   "metadata": {
    "collapsed": false
   },
   "outputs": [
    {
     "data": {
      "text/plain": [
       "1"
      ]
     },
     "execution_count": 21,
     "metadata": {},
     "output_type": "execute_result"
    }
   ],
   "source": []
  },
  {
   "cell_type": "code",
   "execution_count": 10,
   "metadata": {
    "collapsed": false
   },
   "outputs": [],
   "source": [
    "#Write results to Excel\n",
    "\n",
    "import ReadWriteExcel as rw\n",
    "\n",
    "rw.writeExcelData(pd.DataFrame(Failure_Output), \"Assignment_4_Data_and_Template.xlsx\", \"To be classified\", 5, 16)\n",
    "rw.writeExcelData(pd.DataFrame(Type_Out), \"Assignment_4_Data_and_Template.xlsx\", \"To be classified\", 5,17)"
   ]
  },
  {
   "cell_type": "markdown",
   "metadata": {},
   "source": [
    "Evaluate the performance of your classifiers (using training data alone) using the metrics requested in the sheet \"Performance\"\n",
    "\n",
    "For guidance, see slides titled \"Step-by-step: Linear Classifier Design\" in the lecture on linear classifiers."
   ]
  },
  {
   "cell_type": "code",
   "execution_count": 11,
   "metadata": {
    "collapsed": false
   },
   "outputs": [],
   "source": [
    "#Evaluate Training Data\n",
    "\n",
    "TD_Fail_Out = []\n",
    "TD_Type_Output = []\n",
    "\n",
    "for index,row in Training_Data.iterrows():\n",
    "    \n",
    "    TD_Fail_Out.append(np.sign(np.dot(row, W_Failure)).astype(int))\n",
    "    TD_Type_Output.append(np.dot(row,W_Type))\n",
    "\n",
    "TD_Type_Out = []\n",
    "for row in TD_Type_Output:\n",
    "    TD_Type_Out.append(list(row).index(max(list(row)))+1)\n",
    "\n",
    "#print (pd.DataFrame(TD_Fail_Out))\n",
    "#print (pd.DataFrame(TD_Type_Out))"
   ]
  },
  {
   "cell_type": "code",
   "execution_count": 12,
   "metadata": {
    "collapsed": false
   },
   "outputs": [],
   "source": [
    "#Make Confusion Matrices\n",
    "\n",
    "CM_Fail = np.zeros((2,2))\n",
    "CM_Type = np.zeros((6,6))\n",
    "\n",
    "for i,r in Failure.iterrows():\n",
    "    if r[0] == -1:\n",
    "        if TD_Fail_Out[i] == -1:\n",
    "            CM_Fail[0][0] += 1\n",
    "        elif TD_Fail_Out[i] == 1:\n",
    "            CM_Fail[0][1] += 1\n",
    "    \n",
    "    elif r[0] == 1:\n",
    "        if TD_Fail_Out[i] == 1:\n",
    "            CM_Fail[1][1] += 1\n",
    "        elif TD_Fail_Out[i] == -1:\n",
    "            CM_Fail[1][0] += 1\n",
    "            \n",
    "for i, r in FType.iterrows():\n",
    "    CM_Type[r[0]-1][TD_Type_Out[i]-1] += 1\n",
    "    \n",
    "CM_Type = CM_Type.astype(int)"
   ]
  },
  {
   "cell_type": "code",
   "execution_count": 13,
   "metadata": {
    "collapsed": false
   },
   "outputs": [
    {
     "name": "stdout",
     "output_type": "stream",
     "text": [
      "Accuracy is 81.5%\n",
      "Sensitivity is 65.1515151515%\n",
      "Specificity is 97.8484848485%\n",
      "PPV is 96.803241783%\n"
     ]
    }
   ],
   "source": [
    "#Calculate accuracy, sensitivity, Specificity, PPV\n",
    "\n",
    "acc = (CM_Fail[0][0] + CM_Fail[1][1])/(np.sum(CM_Fail))\n",
    "sen = (CM_Fail[1][1])/(CM_Fail[1][1] + CM_Fail[1][0])\n",
    "spc = (CM_Fail[0][0])/(CM_Fail[0][0] + CM_Fail[0][1])\n",
    "ppv = (CM_Fail[1][1]) / (CM_Fail[1][1] + CM_Fail[0][1])\n",
    "\n",
    "print('Accuracy is ' + str(acc*100) + '%')\n",
    "print('Sensitivity is ' + str(sen*100) + '%')\n",
    "print('Specificity is ' + str(spc*100) + '%')\n",
    "print('PPV is ' + str(ppv*100) + '%')"
   ]
  },
  {
   "cell_type": "code",
   "execution_count": 14,
   "metadata": {
    "collapsed": false
   },
   "outputs": [],
   "source": [
    "# Calculate PPV for each of the classes\n",
    "\n",
    "sums = CM_Type.sum(axis=0)\n",
    "PPVs = []\n",
    "\n",
    "for i in range(len(sums)):\n",
    "    PPVs.append(CM_Type[i][i]/sums[i])"
   ]
  },
  {
   "cell_type": "code",
   "execution_count": 15,
   "metadata": {
    "collapsed": false
   },
   "outputs": [],
   "source": [
    "# Write results to Excel\n",
    "\n",
    "import ReadWriteExcel as rw\n",
    "\n",
    "rw.writeExcelData(pd.DataFrame(CM_Fail, dtype=int), \"Assignment_4_Data_and_Template.xlsx\", \"Performance\", 10,3)\n",
    "rw.writeExcelData(pd.DataFrame(CM_Type, dtype=int), \"Assignment_4_Data_and_Template.xlsx\", \"Performance\", 19,3)\n",
    "rw.writeExcelData(pd.DataFrame([acc, sen, spc, ppv]), \"Assignment_4_Data_and_Template.xlsx\", \"Performance\", 8,7)\n",
    "rw.writeExcelData(pd.DataFrame([[max(PPVs)*100, PPVs.index(max(PPVs))], [min(PPVs)*100, PPVs.index(min(PPVs))]]), \n",
    "                  \"Assignment_4_Data_and_Template.xlsx\", \"Performance\", 20,12)"
   ]
  },
  {
   "cell_type": "code",
   "execution_count": null,
   "metadata": {
    "collapsed": true
   },
   "outputs": [],
   "source": []
  }
 ],
 "metadata": {
  "anaconda-cloud": {},
  "kernelspec": {
   "display_name": "Python 3",
   "language": "python",
   "name": "python3"
  },
  "language_info": {
   "codemirror_mode": {
    "name": "ipython",
    "version": 3
   },
   "file_extension": ".py",
   "mimetype": "text/x-python",
   "name": "python",
   "nbconvert_exporter": "python",
   "pygments_lexer": "ipython3",
   "version": "3.6.0"
  }
 },
 "nbformat": 4,
 "nbformat_minor": 1
}
