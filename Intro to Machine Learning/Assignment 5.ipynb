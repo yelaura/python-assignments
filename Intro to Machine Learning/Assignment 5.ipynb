{
 "cells": [
  {
   "cell_type": "markdown",
   "metadata": {},
   "source": [
    "Implement the stump algorithm (See the section on Decision Trees, Slide 156 approx) to determine the best height to split the data of Assignment 1. Use the class labels Female=-1 and Male=+1. Report your calculated values of \\Delta and \\Tau"
   ]
  },
  {
   "cell_type": "code",
   "execution_count": 19,
   "metadata": {
    "collapsed": true
   },
   "outputs": [],
   "source": [
    "import numpy as np\n",
    "import pandas as pd\n",
    "import pylab as plb\n",
    "\n",
    "# Import data into Panda.DataFrame\n",
    "df = pd.read_excel('Assignment_1_Data_and_Template.xlsx')\n",
    "\n",
    "# adding head_parameter to truncate data to top 50 rows\n",
    "# df = df.head(n=50)\n",
    "\n",
    "# Filter out data for Male and Female data\n",
    "male_heights = df.loc[df['Gender'] == 'Male']\n",
    "female_heights = df.loc[df['Gender'] == 'Female']\n",
    "\n",
    "# Convert heights in feet and inches to inches only\n",
    "male_ht = male_heights['Height_Feet'] * 12 + male_heights['Height_Inches']\n",
    "female_ht = female_heights['Height_Feet'] * 12 + female_heights['Height_Inches']"
   ]
  },
  {
   "cell_type": "markdown",
   "metadata": {},
   "source": [
    "Sort by height. Extract height information. Convert to inches. Extract class labels. Convert to +1/-1"
   ]
  },
  {
   "cell_type": "code",
   "execution_count": 20,
   "metadata": {
    "collapsed": true
   },
   "outputs": [],
   "source": [
    "df['Height'] =  df['Height_Feet']*12 + df['Height_Inches']\n",
    "df.sort_values('Height', axis=0, ascending=True, inplace=True)\n",
    "\n",
    "x = df['Height']\n",
    "t = df['Gender']\n",
    "\n",
    "t.replace(to_replace = \"Male\", value=1, inplace=True)\n",
    "t.replace(to_replace = \"Female\", value=-1, inplace=True)\n",
    "\n",
    "N = len(x)\n",
    "T_plus = sum(t==1)\n",
    "T_minus = sum(t==-1)\n",
    "\n",
    "x.reset_index(drop=True, inplace=True)\n",
    "t.reset_index(drop=True, inplace=True)"
   ]
  },
  {
   "cell_type": "code",
   "execution_count": 21,
   "metadata": {
    "collapsed": true
   },
   "outputs": [],
   "source": [
    "A_minus = 0\n",
    "A_plus = 0\n",
    "I_0 = I_opt = T_minus * T_plus / (N*N)\n",
    "tau = x[0]\n",
    "I=0"
   ]
  },
  {
   "cell_type": "code",
   "execution_count": 22,
   "metadata": {
    "collapsed": false
   },
   "outputs": [
    {
     "name": "stdout",
     "output_type": "stream",
     "text": [
      "1.7008131551e-05\n",
      "0.0948029412152\n",
      "67\n"
     ]
    }
   ],
   "source": [
    "for i in range(1,N):\n",
    "    if t[i-1] == -1:\n",
    "        A_minus += 1\n",
    "    else:\n",
    "        A_plus += 1\n",
    "    \n",
    "    left = (A_minus * A_plus) / (A_minus + A_plus)\n",
    "    right = (T_minus-A_minus)*(T_plus-A_plus)/ (T_minus+T_plus-A_minus-A_plus)\n",
    "    I = (left + right) / N\n",
    "    \n",
    "    #I = 1/N * ((A_minus * A_plus) / (A_minus + A_plus) + (T_minus - A_minus)*(T_plus-A_plus)/(T_minus + T_plus - A_minus - A_plus))\n",
    "    \n",
    "    if I < I_opt:\n",
    "        I_opt = I\n",
    "        tau = x[i]\n",
    "        \n",
    "    elif i > N:\n",
    "        break\n",
    "                    \n",
    "print(I_0-I)\n",
    "print(I_0-I_opt)\n",
    "print(tau)"
   ]
  },
  {
   "cell_type": "code",
   "execution_count": 5,
   "metadata": {
    "collapsed": false
   },
   "outputs": [
    {
     "data": {
      "text/plain": [
       "0.15411240175159352"
      ]
     },
     "execution_count": 5,
     "metadata": {},
     "output_type": "execute_result"
    }
   ],
   "source": [
    "I_opt"
   ]
  },
  {
   "cell_type": "markdown",
   "metadata": {},
   "source": [
    "Use the pseudoinverse method to build a linear classifier of the form w0 + w1*h > 0 = M. Report w0 and w1"
   ]
  },
  {
   "cell_type": "code",
   "execution_count": 70,
   "metadata": {
    "collapsed": false
   },
   "outputs": [
    {
     "name": "stdout",
     "output_type": "stream",
     "text": [
      "[-9.90505892  0.14566241]\n"
     ]
    }
   ],
   "source": [
    "Xa = pd.DataFrame(x)\n",
    "Xa.insert(0,'Xa', 1)\n",
    "\n",
    "W = np.linalg.pinv(Xa).dot(t)\n",
    "print(W)"
   ]
  },
  {
   "cell_type": "markdown",
   "metadata": {},
   "source": [
    "How are w0, w1 and Tau related to each other?"
   ]
  },
  {
   "cell_type": "code",
   "execution_count": 71,
   "metadata": {
    "collapsed": false
   },
   "outputs": [
    {
     "name": "stdout",
     "output_type": "stream",
     "text": [
      "W is: [-9.90505892  0.14566241]\n",
      "Tau is: 67\n"
     ]
    }
   ],
   "source": [
    "print(\"W is: \" + str(W))\n",
    "print(\"Tau is: \" + str(tau))"
   ]
  },
  {
   "cell_type": "markdown",
   "metadata": {},
   "source": [
    "tau (68) is the x-intercept of the linear classifier since w0+w1*h == 0"
   ]
  },
  {
   "cell_type": "code",
   "execution_count": 73,
   "metadata": {
    "collapsed": false
   },
   "outputs": [
    {
     "data": {
      "text/plain": [
       "-0.14567730960418501"
      ]
     },
     "execution_count": 73,
     "metadata": {},
     "output_type": "execute_result"
    }
   ],
   "source": [
    "W[0] + W[1] * 67"
   ]
  },
  {
   "cell_type": "code",
   "execution_count": null,
   "metadata": {
    "collapsed": true
   },
   "outputs": [],
   "source": []
  }
 ],
 "metadata": {
  "kernelspec": {
   "display_name": "Python 3",
   "language": "python",
   "name": "python3"
  },
  "language_info": {
   "codemirror_mode": {
    "name": "ipython",
    "version": 3
   },
   "file_extension": ".py",
   "mimetype": "text/x-python",
   "name": "python",
   "nbconvert_exporter": "python",
   "pygments_lexer": "ipython3",
   "version": "3.6.0"
  }
 },
 "nbformat": 4,
 "nbformat_minor": 2
}
