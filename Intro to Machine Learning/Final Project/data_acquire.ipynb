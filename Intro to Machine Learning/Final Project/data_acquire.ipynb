{
 "cells": [
  {
   "cell_type": "code",
   "execution_count": 1,
   "metadata": {
    "collapsed": true
   },
   "outputs": [],
   "source": [
    "import cv2\n",
    "import numpy as np\n",
    "import os\n",
    "import re\n",
    "from datetime import datetime, timedelta"
   ]
  },
  {
   "cell_type": "code",
   "execution_count": null,
   "metadata": {
    "collapsed": true
   },
   "outputs": [],
   "source": [
    "# Important! In order for the face recognition to work, please save a copy of \n",
    "# 'haarcascade_frontalface_default.xml' to your working directory.\n",
    "# file can be downloaded here: \n",
    "# https://raw.githubusercontent.com/opencv/opencv/master/data/haarcascades/haarcascade_frontalface_default.xml\n",
    "\n",
    "# Instructions for taking images:\n",
    "# In the video window, a square box will show up if the program detects your face. \n",
    "# Once face is detected, press s to start image acquire\n",
    "# press q to quit acquisition mode anytime\n",
    "# The acquired images will be stored in your designated folder with full resolution and with color\n",
    "\n",
    "# Instructions for cropping out face region for analysis:\n",
    "# Choose a resolution for the final face image. The face region will first be cropped out with original \n",
    "# resolution when images were taken, resized to the size you defined in the resolution,\n",
    "# and converted to gray scale images. \n",
    "\n",
    "# Personal experience\n",
    "# I tried resolution of 100x100 and 50x50, and 100x100 gives numpy array too big to do eigenvector \n",
    "# calculation. 50x50 is good for calculation, and using first 2 components is good enough to make \n",
    "# bi-classficiation prediction on my trial. I used 100 images per class.  "
   ]
  },
  {
   "cell_type": "code",
   "execution_count": 8,
   "metadata": {
    "collapsed": false
   },
   "outputs": [],
   "source": [
    "# take a series of images within video\n",
    "def image_capture(image_path, n, start_id):\n",
    "    \"\"\"\n",
    "    Take a series of images with face from vedio\n",
    "    \n",
    "    Input:\n",
    "    -image_path: path of image folder to store captured images.\n",
    "    -n: number of images to capture. \n",
    "    -start_id: the start number of image used in filename. Default start from 0.\n",
    "    \n",
    "    Output:\n",
    "    -n images with faces stored in designiated image folder.\n",
    "    \"\"\"\n",
    "    # senitize path and create folder if not exists\n",
    "    image_path = image_path\n",
    "    if not image_path.endswith('\\\\'):\n",
    "        image_path +='\\\\'\n",
    "    if not os.path.exists(image_path):\n",
    "        os.mkdir(image_path)\n",
    "        \n",
    "    img_id = start_id\n",
    "    end_id = img_id+n\n",
    "\n",
    "    start = False\n",
    "    oldtime = datetime.now()\n",
    "    \n",
    "    cap = cv2.VideoCapture(0)\n",
    "    face_cascade = cv2.CascadeClassifier('haarcascade_frontalface_default.xml')\n",
    "    \n",
    "    while(img_id<end_id):\n",
    "        # Capture frame-by-frame\n",
    "        ret, frame = cap.read()\n",
    "\n",
    "        # Our operations on the frame come here\n",
    "        gray = cv2.cvtColor(frame, cv2.COLOR_BGR2GRAY)\n",
    "\n",
    "        # face tracking on gray image\n",
    "        faces = face_cascade.detectMultiScale(gray, 1.3, 5)\n",
    "\n",
    "        # Display the resulting frame  \n",
    "        for (x,y,w,h) in faces:\n",
    "            cv2.rectangle(gray,(x,y),(x+w,y+h),(255,0,0),2)\n",
    "            roi_gray = gray[y:y+h, x:x+w]\n",
    "\n",
    "        if cv2.waitKey(1) & 0xFF == ord('q'):\n",
    "            break\n",
    "        elif cv2.waitKey(1) & 0xFF == ord('s'):\n",
    "            start = True\n",
    "            oldtime = datetime.now()\n",
    "\n",
    "        # take next image after 0.5 second if face is detected.\n",
    "        newtime = datetime.now()\n",
    "        diff = (newtime-oldtime).seconds\n",
    "\n",
    "        if len(faces) and start and diff>0.5:               \n",
    "            filename = 'img_%i.jpg'%img_id\n",
    "            cv2.imwrite(str(image_path)+filename,frame)\n",
    "            img_id+=1\n",
    "            oldtime = datetime.now()\n",
    "        \n",
    "        if start:\n",
    "            cv2.putText(gray, \"Capture image {0}; last image is {1}\".format(img_id, end_id-1), (40, 20), cv2.FONT_HERSHEY_SIMPLEX, 0.7,(255,255,255),2)\n",
    "        else:\n",
    "            cv2.putText(gray, \"Press s to start, press q to quit!\", (20, 20), cv2.FONT_HERSHEY_SIMPLEX, 0.7,(255,255,255),2)\n",
    "        cv2.imshow('frame',gray)\n",
    "        faces = None\n",
    "\n",
    "    # When everything done, release the capture\n",
    "    cap.release()\n",
    "    cv2.destroyAllWindows()"
   ]
  },
  {
   "cell_type": "code",
   "execution_count": 10,
   "metadata": {
    "collapsed": false
   },
   "outputs": [],
   "source": [
    "# capture 100 images with face and store file in folder named 'weiya'\n",
    "image_path = 'weiya'\n",
    "n = 100\n",
    "start_id = 0\n",
    "image_capture(image_path, n, start_id)"
   ]
  },
  {
   "cell_type": "code",
   "execution_count": 2,
   "metadata": {
    "collapsed": false
   },
   "outputs": [],
   "source": [
    "# crop out face region within images, resize to 100x100 and save face images to faces folder\n",
    "def face_crop(image_path, face_path, class_id, resolution):\n",
    "    \"\"\"\n",
    "    crop out face region from images, save as filename cX_imgageY_face_Z.jpg X is the class number, Y is yth image of X class, Z is zth face detected in imageY. \n",
    "    \n",
    "    Input:\n",
    "    -image_path: path of image folder to be processed, images from same class are stored in same folder.\n",
    "    -face_path: path of processed images\n",
    "    -class_id: class number of face images.\n",
    "    -resolution: resize resolution (px, px)\n",
    "    \n",
    "    Output:\n",
    "    -croped face image with resolution (100px, 100px)\n",
    "    \"\"\"\n",
    "    face_cascade = cv2.CascadeClassifier('haarcascade_frontalface_default.xml')\n",
    "    \n",
    "    class_id = class_id\n",
    "    image_path = image_path\n",
    "    face_path = face_path\n",
    "    img_id = None\n",
    "    \n",
    "    #senitize check of path, create face folder if not exists\n",
    "    if not image_path.endswith('\\\\'):\n",
    "        image_path +='\\\\'\n",
    "    if not face_path.endswith('\\\\'):\n",
    "        face_path +='\\\\'   \n",
    "    if not os.path.exists(face_path):\n",
    "        os.mkdir(face_path)\n",
    "    \n",
    "    #crop face from images\n",
    "    for file in os.listdir(image_path):\n",
    "        if file.endswith('.jpg'):\n",
    "            img_id = re.findall(r'img_(\\d+).jpg', file)[0]\n",
    "        if img_id:\n",
    "            filename = 'img_%s.jpg'%img_id\n",
    "            img = cv2.imread(str(image_path)+filename)\n",
    "            gray = cv2.cvtColor(img, cv2.COLOR_BGR2GRAY)\n",
    "            faces = face_cascade.detectMultiScale(gray, 1.3, 5)\n",
    "            i = 1\n",
    "            for (x,y,w,h) in faces:\n",
    "                output = 'c{0}_image{1}_face{2}.jpg'.format(class_id, img_id, i)\n",
    "                roi_gray = gray[y:y+h, x:x+w]\n",
    "                roi_gray = cv2.resize(roi_gray, resolution)\n",
    "                cv2.imwrite(str(face_path)+output,roi_gray)\n",
    "                i += 1\n",
    "        img_id = None\n",
    "\n",
    "    cv2.destroyAllWindows()    "
   ]
  },
  {
   "cell_type": "code",
   "execution_count": 3,
   "metadata": {
    "collapsed": false
   },
   "outputs": [],
   "source": [
    "# crop face out of images in folder 'weiya', store processed face images in 'faces' folder, class label is 1. Filename is c1_imageX_faceY.jpg\n",
    "resolution = (50, 50)\n",
    "face_crop('weiya', 'faces', 1, resolution)"
   ]
  },
  {
   "cell_type": "code",
   "execution_count": null,
   "metadata": {
    "collapsed": true
   },
   "outputs": [],
   "source": []
  }
 ],
 "metadata": {
  "anaconda-cloud": {},
  "kernelspec": {
   "display_name": "Python [conda env:py27]",
   "language": "python",
   "name": "conda-env-py27-py"
  },
  "language_info": {
   "codemirror_mode": {
    "name": "ipython",
    "version": 2
   },
   "file_extension": ".py",
   "mimetype": "text/x-python",
   "name": "python",
   "nbconvert_exporter": "python",
   "pygments_lexer": "ipython2",
   "version": "2.7.13"
  }
 },
 "nbformat": 4,
 "nbformat_minor": 1
}
