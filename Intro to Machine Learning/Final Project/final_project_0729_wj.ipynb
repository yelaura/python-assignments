{
 "cells": [
  {
   "cell_type": "code",
   "execution_count": 1,
   "metadata": {
    "collapsed": true
   },
   "outputs": [],
   "source": [
    "# -*- coding: utf-8 -*-\n",
    "\"\"\"\n",
    "Created on Tue Jul 25 2017\n",
    "\n",
    "@author: Nicolas Loffreda\n",
    "\n",
    "Module to read all the images located on a particular folder, convert them to\n",
    "an np array, flatten them and put them together on an np Array format to use as\n",
    "Data Matrix (Feature Vector)\n",
    "\"\"\"\n",
    "\n",
    "import os\n",
    "import numpy as np\n",
    "from PIL import Image\n",
    "import pylab as pl\n",
    "\n",
    "def readImages(path, chk_shape=(50, 50)):\n",
    "    '''\n",
    "    Read all images from a directory and return an np Array X to use\n",
    "    as data matrix (Feature Vectors).\n",
    "    The function will also check for a specific shape and raise an error if \n",
    "    dimensions don't match what's expected (usually 50x50, but can be changed)\n",
    "    \n",
    "    Parameters & Return\n",
    "    ----------\n",
    "    :param path: Path where the images are located\n",
    "    :param chk_shape: Tuple (1x2) to check image shape\n",
    "    :return X: Data matrix with each image on a flattened format\n",
    "    \n",
    "    Example\n",
    "    -----------\n",
    "    :Example:\n",
    "        \n",
    "    >> X = readImages(\"./imgs\", chk_shape=(145,148))\n",
    "    >> X = readImages(\"./imgs\")\n",
    "    '''\n",
    "    # Read Images\n",
    "    images = list()\n",
    "    labels = list()\n",
    "    for img in os.listdir(path):\n",
    "        if img.endswith(\".png\") or img.endswith(\".jpg\"):\n",
    "            im = Image.open(os.path.join(path, img))\n",
    "            im_grey = im.convert('L')\n",
    "            im_array = np.array(im_grey)\n",
    "            if im_array.shape != chk_shape:\n",
    "                raise ValueError('{} doesnt have the expected dim {}, {} instead'.format(img, chk_shape, im_array.shape))\n",
    "            images.append(im_array)\n",
    "            # obtain class value\n",
    "            class_id = int(img.split('_')[0].lstrip('c'))\n",
    "            labels.append(class_id)\n",
    "            \n",
    "    # Flatten the images and append to Data matrix\n",
    "    flatimages = list()\n",
    "    for i in images:\n",
    "        flatimages.append(i.ravel())\n",
    "    X = np.asarray(flatimages)\n",
    "    y = np.asarray(labels)\n",
    "    return X, y\n",
    "\n",
    "\n",
    "def plotImages(*args, dm=(50, 50)):\n",
    "    '''\n",
    "    Plot one or multiple images from the X matrix. Takes flatten images as input, \n",
    "    so need to set up the width and length to re-shape the vector image if different\n",
    "    than 50x50. This will be set up as \n",
    "    \n",
    "    Examples\n",
    "    -------------\n",
    "    :Example:\n",
    "        \n",
    "    >> plotImages(X[0], dm=(145, 148))\n",
    "    >> plotImages(X[100])\n",
    "    '''\n",
    "    n = len(args)\n",
    "    fig = pl.figure()\n",
    "    for i,arg in enumerate(args):\n",
    "        pl.subplot(1, n, i+1)\n",
    "        pl.imshow(arg.reshape(dm[0], dm[1]), interpolation='None', cmap=pl.get_cmap('gray'))\n",
    "        pl.axis('off')\n",
    "    fig.tight_layout(pad=0)\n",
    "    pl.show()"
   ]
  },
  {
   "cell_type": "markdown",
   "metadata": {},
   "source": [
    "Class labels:\n",
    "Priyanka Deo 0\n",
    "Weiya Jiang 1\n",
    "Nicolas Loffreda 2\n",
    "Krupa Masilamani 3\n",
    "Mukul Sharma 4\n",
    "Laura Ye 5"
   ]
  },
  {
   "cell_type": "code",
   "execution_count": 2,
   "metadata": {
    "collapsed": true
   },
   "outputs": [],
   "source": [
    "path = r'C:\\Users\\Vicky\\Documents\\berkeley_ext_course\\intro_to_ML_using_python\\final_project_test\\all_data'"
   ]
  },
  {
   "cell_type": "code",
   "execution_count": 3,
   "metadata": {
    "collapsed": true
   },
   "outputs": [],
   "source": [
    "# import image data and labels\n",
    "X, y = readImages(path, chk_shape=(50, 50))"
   ]
  },
  {
   "cell_type": "code",
   "execution_count": 4,
   "metadata": {
    "collapsed": false
   },
   "outputs": [
    {
     "data": {
      "text/plain": [
       "((392, 2500), (392,))"
      ]
     },
     "execution_count": 4,
     "metadata": {},
     "output_type": "execute_result"
    }
   ],
   "source": [
    "X.shape, y.shape"
   ]
  },
  {
   "cell_type": "code",
   "execution_count": 5,
   "metadata": {
    "collapsed": false
   },
   "outputs": [
    {
     "data": {
      "image/png": "[encoded data removed]",
      "text/plain": [
       "<matplotlib.figure.Figure at 0x7e68c50>"
      ]
     },
     "metadata": {},
     "output_type": "display_data"
    },
    {
     "name": "stdout",
     "output_type": "stream",
     "text": [
      "image1 label:  2\n",
      "image2 label:  4\n"
     ]
    }
   ],
   "source": [
    "# verify images and labels\n",
    "plotImages(X[100], X[200])\n",
    "print (\"image1 label: \", y[100])\n",
    "print (\"image2 label: \", y[200])"
   ]
  },
  {
   "cell_type": "code",
   "execution_count": 6,
   "metadata": {
    "collapsed": true
   },
   "outputs": [],
   "source": [
    "\"\"\"\n",
    "@author: Nicolas Loffreda\n",
    "@date: 6/24/2017\n",
    "\n",
    "Code to apply Principal Component Analysis (PCA) to a feature matrix\n",
    "\"\"\"\n",
    "import numpy as np\n",
    "import matplotlib.pyplot as plt\n",
    "\n",
    "def applyPCA(X, components=2, return_code='P'):\n",
    "    '''\n",
    "    Calculate the PCA of a feature matrix.\n",
    "    Can be controled to set the number of PCA components we want to use.\n",
    "    Will return P Matrix with dimension N x components\n",
    "    '''\n",
    "    if type(X) != np.ndarray:\n",
    "        raise TypeError('Type of X must be a numpy array')\n",
    "    if components > X.shape[1]:\n",
    "        raise ValueError(\"Number of components can't be more than the number of features: \" + str(X.shape[1]))\n",
    "        \n",
    "    # Normalize Feature Vector: Z\n",
    "    mean_vec = X.mean(axis=0)\n",
    "    Z = X - mean_vec\n",
    "\n",
    "    # Covariance Matrix: C\n",
    "    C = np.cov(X, rowvar=False)\n",
    "    \n",
    "    # EigenVectors: V\n",
    "    eigvals, V = np.linalg.eigh(C)\n",
    "    eigvals=np.flipud(eigvals)\n",
    "    V=np.flipud(V.T)\n",
    "    V = V[:components]\n",
    "    \n",
    "    # Principal Components matrix: P\n",
    "    P = np.dot(Z,V.T)\n",
    "    \n",
    "    # Recuperated Matrix: X_Rec\n",
    "    X_rec = np.dot(P, V) + mean_vec\n",
    "    \n",
    "    if return_code == 'P':\n",
    "        return P\n",
    "    if return_code == 'PX':\n",
    "        return P, X_rec\n",
    "    elif return_code == 'all':\n",
    "        return mean_vec, Z, C, P, V, X_rec, eigvals\n",
    "    else:\n",
    "        raise ValueError('Invalid return code: P, PX, all')\n",
    "        \n",
    "def eigvalsGraph(X, plot_comp=0):\n",
    "    '''\n",
    "    This function will calculate the eigvals variance contribution\n",
    "    for a feature matrix and plot it\n",
    "    '''\n",
    "    if type(X) != np.ndarray:\n",
    "        raise TypeError('Type of X must be a numpy array')\n",
    "        \n",
    "    # ToDo: Check that the sum of negative eigvals is not significant\n",
    "    \n",
    "    C = np.cov(X, rowvar=False)\n",
    "    eigvals, V = np.linalg.eigh(C)\n",
    "    eigvals_sum = sum(eigvals)\n",
    "    eigvals_flip=np.flipud(eigvals)\n",
    "    eigvals_partial_sum = 0\n",
    "    eigvals_var_explain = []\n",
    "    \n",
    "    for i in eigvals_flip:\n",
    "        eigvals_partial_sum += i\n",
    "        eigvals_var_explain.append(eigvals_partial_sum)\n",
    "        \n",
    "    eigvals_var_explain = np.array(eigvals_var_explain)\n",
    "    eigvals_var_explain = eigvals_var_explain / eigvals_sum\n",
    "    ind = [i+1 for i in range(np.alen(eigvals_flip))]\n",
    "    \n",
    "    if plot_comp == 0:\n",
    "        plt.plot(ind, eigvals_var_explain)\n",
    "        plt.show()\n",
    "    else:\n",
    "        plt.plot(ind[:plot_comp], eigvals_var_explain[:plot_comp])\n",
    "        plt.show()"
   ]
  },
  {
   "cell_type": "code",
   "execution_count": 7,
   "metadata": {
    "collapsed": true
   },
   "outputs": [],
   "source": [
    "# PCA\n",
    "_, _, _, P, V, _, eigvals = applyPCA(X, components=2, return_code='all')"
   ]
  },
  {
   "cell_type": "code",
   "execution_count": 8,
   "metadata": {
    "collapsed": false
   },
   "outputs": [
    {
     "data": {
      "text/plain": [
       "0.7125646043670214"
      ]
     },
     "execution_count": 8,
     "metadata": {},
     "output_type": "execute_result"
    }
   ],
   "source": [
    "# percentage variance retained in the first two components\n",
    "np.sum(eigvals[:2])/np.sum(eigvals)"
   ]
  },
  {
   "cell_type": "code",
   "execution_count": 9,
   "metadata": {
    "collapsed": false
   },
   "outputs": [
    {
     "data": {
      "image/png": "[encoded data removed]",
      "text/plain": [
       "<matplotlib.figure.Figure at 0x7e30b38>"
      ]
     },
     "metadata": {},
     "output_type": "display_data"
    }
   ],
   "source": [
    "eigvalsGraph(X, plot_comp=2)"
   ]
  },
  {
   "cell_type": "code",
   "execution_count": 10,
   "metadata": {
    "collapsed": true
   },
   "outputs": [],
   "source": [
    "% matplotlib inline"
   ]
  },
  {
   "cell_type": "code",
   "execution_count": 11,
   "metadata": {
    "collapsed": false
   },
   "outputs": [
    {
     "data": {
      "image/png": "[encoded data removed]",
      "text/plain": [
       "<matplotlib.figure.Figure at 0x81379e8>"
      ]
     },
     "metadata": {},
     "output_type": "display_data"
    }
   ],
   "source": [
    "class_ids = [1,2,4,5]\n",
    "colors = ['red', 'green', 'blue', 'purple']\n",
    "# plot first 2 principle components\n",
    "plt.figure(figsize=(10,8))\n",
    "ax = plt.gca()\n",
    "ax.spines['top'].set_color('none')\n",
    "ax.spines['bottom'].set_color('none')\n",
    "ax.spines['left'].set_color('none')\n",
    "ax.spines['right'].set_color('none')\n",
    "ax.xaxis.set_ticks_position('bottom')\n",
    "ax.spines['bottom'].set_position(('data', 0))\n",
    "ax.spines['bottom'].set_color('gray')\n",
    "ax.yaxis.set_ticks_position('left')\n",
    "ax.spines['left'].set_position(('data', 0))\n",
    "ax.spines['left'].set_color('gray')\n",
    "for i in np.arange(len(class_ids)):\n",
    "    plt.scatter(P[:,0][y==class_ids[i]], P[:,1][y==class_ids[i]], c=colors[i], s = 10, label = \"class %i\"%class_ids[i], alpha=0.7)\n",
    "ax.legend()\n",
    "plt.show()"
   ]
  },
  {
   "cell_type": "code",
   "execution_count": 12,
   "metadata": {
    "collapsed": false
   },
   "outputs": [
    {
     "data": {
      "image/png": "[encoded data removed]",
      "text/plain": [
       "<matplotlib.figure.Figure at 0x81d29e8>"
      ]
     },
     "metadata": {},
     "output_type": "display_data"
    }
   ],
   "source": [
    "# plot first 2 eigenfaces\n",
    "plt.figure(figsize=(10,8))\n",
    "for i in np.arange(2):\n",
    "    plt.subplot(2,3,i+1)\n",
    "    plt.imshow(V[i,:].reshape(50,50), cmap='gray')\n",
    "plt.show()"
   ]
  },
  {
   "cell_type": "code",
   "execution_count": 17,
   "metadata": {
    "collapsed": false
   },
   "outputs": [],
   "source": [
    "# split test and training data\n",
    "def train_test_split(X, y, test_size=None, random_state=None):\n",
    "    \"\"\"\n",
    "    Input:\n",
    "    -X: data, with shape (N, d)\n",
    "    -y: label, with shape (N, )\n",
    "    -test_size: float. 0-1\n",
    "    -random_state: define randome state, for reproducing same random sequence. int   \n",
    "    \"\"\"\n",
    "    if random_state == None:\n",
    "        random_state = 42\n",
    "    if test_size == None:\n",
    "        test_size = 0.25\n",
    "    np.random.seed(random_state)\n",
    "    indices = np.random.permutation(len(X))\n",
    "    \n",
    "    test_size = int(len(X)*test_size)\n",
    "    test_ind = indices[:test_size]\n",
    "    train_ind = indices[test_size:]\n",
    "    \n",
    "    X_train, y_train = X[train_ind], y[train_ind]\n",
    "    X_test, y_test = X[test_ind], y[test_ind]\n",
    "    return X_train, y_train, X_test, y_test\n"
   ]
  },
  {
   "cell_type": "code",
   "execution_count": 18,
   "metadata": {
    "collapsed": false
   },
   "outputs": [
    {
     "name": "stdout",
     "output_type": "stream",
     "text": [
      "(294, 2) (294,) (98, 2) (98,)\n"
     ]
    }
   ],
   "source": [
    "X_train, y_train, X_test, y_test = train_test_split(P, y, test_size=0.25, random_state=42)\n",
    "print (X_train.shape, y_train.shape, X_test.shape, y_test.shape)"
   ]
  },
  {
   "cell_type": "code",
   "execution_count": 22,
   "metadata": {
    "collapsed": false
   },
   "outputs": [
    {
     "data": {
      "text/plain": [
       "Counter({1: 70, 2: 69, 4: 75, 5: 80})"
      ]
     },
     "execution_count": 22,
     "metadata": {},
     "output_type": "execute_result"
    }
   ],
   "source": [
    "# count the number of each class in the training set\n",
    "from collections import Counter\n",
    "Counter(y_train)"
   ]
  },
  {
   "cell_type": "code",
   "execution_count": null,
   "metadata": {
    "collapsed": true
   },
   "outputs": [],
   "source": []
  }
 ],
 "metadata": {
  "anaconda-cloud": {},
  "kernelspec": {
   "display_name": "Python [conda env:py36]",
   "language": "python",
   "name": "conda-env-py36-py"
  },
  "language_info": {
   "codemirror_mode": {
    "name": "ipython",
    "version": 3
   },
   "file_extension": ".py",
   "mimetype": "text/x-python",
   "name": "python",
   "nbconvert_exporter": "python",
   "pygments_lexer": "ipython3",
   "version": "3.6.1"
  }
 },
 "nbformat": 4,
 "nbformat_minor": 1
}
